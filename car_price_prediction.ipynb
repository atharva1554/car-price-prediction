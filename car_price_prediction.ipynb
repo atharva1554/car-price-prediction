{
 "cells": [
  {
   "cell_type": "code",
   "execution_count": 1,
   "id": "18d2f339",
   "metadata": {},
   "outputs": [],
   "source": [
    "import numpy as np\n",
    "import pandas as pd\n",
    "import matplotlib.pyplot as plt\n",
    "from sklearn.preprocessing import StandardScaler\n",
    "import matplotlib.pyplot as plt\n",
    "import seaborn as sns\n",
    "from sklearn.metrics import roc_curve, auc\n",
    "from sklearn.model_selection import train_test_split\n",
    "from sklearn.metrics import accuracy_score\n",
    "from sklearn.preprocessing import StandardScaler\n",
    "from sklearn.metrics import accuracy_score,confusion_matrix,recall_score,precision_score,f1_score\n",
    "from sklearn.metrics import mean_absolute_error, mean_squared_error, r2_score"
   ]
  },
  {
   "cell_type": "code",
   "execution_count": 2,
   "id": "74024c0a",
   "metadata": {},
   "outputs": [
    {
     "data": {
      "text/html": [
       "<div>\n",
       "<style scoped>\n",
       "    .dataframe tbody tr th:only-of-type {\n",
       "        vertical-align: middle;\n",
       "    }\n",
       "\n",
       "    .dataframe tbody tr th {\n",
       "        vertical-align: top;\n",
       "    }\n",
       "\n",
       "    .dataframe thead th {\n",
       "        text-align: right;\n",
       "    }\n",
       "</style>\n",
       "<table border=\"1\" class=\"dataframe\">\n",
       "  <thead>\n",
       "    <tr style=\"text-align: right;\">\n",
       "      <th></th>\n",
       "      <th>ID</th>\n",
       "      <th>Levy</th>\n",
       "      <th>Manufacturer</th>\n",
       "      <th>Model</th>\n",
       "      <th>Prod. year</th>\n",
       "      <th>Category</th>\n",
       "      <th>Leather interior</th>\n",
       "      <th>Fuel type</th>\n",
       "      <th>Engine volume</th>\n",
       "      <th>Mileage</th>\n",
       "      <th>Cylinders</th>\n",
       "      <th>Gear box type</th>\n",
       "      <th>Drive wheels</th>\n",
       "      <th>Doors</th>\n",
       "      <th>Wheel</th>\n",
       "      <th>Color</th>\n",
       "      <th>Airbags</th>\n",
       "      <th>Price</th>\n",
       "    </tr>\n",
       "  </thead>\n",
       "  <tbody>\n",
       "    <tr>\n",
       "      <th>0</th>\n",
       "      <td>45654403</td>\n",
       "      <td>1399</td>\n",
       "      <td>LEXUS</td>\n",
       "      <td>RX 450</td>\n",
       "      <td>2010</td>\n",
       "      <td>Jeep</td>\n",
       "      <td>Yes</td>\n",
       "      <td>Hybrid</td>\n",
       "      <td>3.5</td>\n",
       "      <td>186005 km</td>\n",
       "      <td>6</td>\n",
       "      <td>Automatic</td>\n",
       "      <td>4x4</td>\n",
       "      <td>04-May</td>\n",
       "      <td>Left wheel</td>\n",
       "      <td>Silver</td>\n",
       "      <td>12</td>\n",
       "      <td>13328</td>\n",
       "    </tr>\n",
       "    <tr>\n",
       "      <th>1</th>\n",
       "      <td>44731507</td>\n",
       "      <td>1018</td>\n",
       "      <td>CHEVROLET</td>\n",
       "      <td>Equinox</td>\n",
       "      <td>2011</td>\n",
       "      <td>Jeep</td>\n",
       "      <td>No</td>\n",
       "      <td>Petrol</td>\n",
       "      <td>3</td>\n",
       "      <td>192000 km</td>\n",
       "      <td>6</td>\n",
       "      <td>Tiptronic</td>\n",
       "      <td>4x4</td>\n",
       "      <td>04-May</td>\n",
       "      <td>Left wheel</td>\n",
       "      <td>Black</td>\n",
       "      <td>8</td>\n",
       "      <td>16621</td>\n",
       "    </tr>\n",
       "    <tr>\n",
       "      <th>2</th>\n",
       "      <td>45774419</td>\n",
       "      <td>-</td>\n",
       "      <td>HONDA</td>\n",
       "      <td>FIT</td>\n",
       "      <td>2006</td>\n",
       "      <td>Hatchback</td>\n",
       "      <td>No</td>\n",
       "      <td>Petrol</td>\n",
       "      <td>1.3</td>\n",
       "      <td>200000 km</td>\n",
       "      <td>4</td>\n",
       "      <td>Variator</td>\n",
       "      <td>Front</td>\n",
       "      <td>04-May</td>\n",
       "      <td>Right-hand drive</td>\n",
       "      <td>Black</td>\n",
       "      <td>2</td>\n",
       "      <td>8467</td>\n",
       "    </tr>\n",
       "    <tr>\n",
       "      <th>3</th>\n",
       "      <td>45769185</td>\n",
       "      <td>862</td>\n",
       "      <td>FORD</td>\n",
       "      <td>Escape</td>\n",
       "      <td>2011</td>\n",
       "      <td>Jeep</td>\n",
       "      <td>Yes</td>\n",
       "      <td>Hybrid</td>\n",
       "      <td>2.5</td>\n",
       "      <td>168966 km</td>\n",
       "      <td>4</td>\n",
       "      <td>Automatic</td>\n",
       "      <td>4x4</td>\n",
       "      <td>04-May</td>\n",
       "      <td>Left wheel</td>\n",
       "      <td>White</td>\n",
       "      <td>0</td>\n",
       "      <td>3607</td>\n",
       "    </tr>\n",
       "    <tr>\n",
       "      <th>4</th>\n",
       "      <td>45809263</td>\n",
       "      <td>446</td>\n",
       "      <td>HONDA</td>\n",
       "      <td>FIT</td>\n",
       "      <td>2014</td>\n",
       "      <td>Hatchback</td>\n",
       "      <td>Yes</td>\n",
       "      <td>Petrol</td>\n",
       "      <td>1.3</td>\n",
       "      <td>91901 km</td>\n",
       "      <td>4</td>\n",
       "      <td>Automatic</td>\n",
       "      <td>Front</td>\n",
       "      <td>04-May</td>\n",
       "      <td>Left wheel</td>\n",
       "      <td>Silver</td>\n",
       "      <td>4</td>\n",
       "      <td>11726</td>\n",
       "    </tr>\n",
       "    <tr>\n",
       "      <th>...</th>\n",
       "      <td>...</td>\n",
       "      <td>...</td>\n",
       "      <td>...</td>\n",
       "      <td>...</td>\n",
       "      <td>...</td>\n",
       "      <td>...</td>\n",
       "      <td>...</td>\n",
       "      <td>...</td>\n",
       "      <td>...</td>\n",
       "      <td>...</td>\n",
       "      <td>...</td>\n",
       "      <td>...</td>\n",
       "      <td>...</td>\n",
       "      <td>...</td>\n",
       "      <td>...</td>\n",
       "      <td>...</td>\n",
       "      <td>...</td>\n",
       "      <td>...</td>\n",
       "    </tr>\n",
       "    <tr>\n",
       "      <th>19232</th>\n",
       "      <td>45798355</td>\n",
       "      <td>-</td>\n",
       "      <td>MERCEDES-BENZ</td>\n",
       "      <td>CLK 200</td>\n",
       "      <td>1999</td>\n",
       "      <td>Coupe</td>\n",
       "      <td>Yes</td>\n",
       "      <td>CNG</td>\n",
       "      <td>2.0 Turbo</td>\n",
       "      <td>300000 km</td>\n",
       "      <td>4</td>\n",
       "      <td>Manual</td>\n",
       "      <td>Rear</td>\n",
       "      <td>02-Mar</td>\n",
       "      <td>Left wheel</td>\n",
       "      <td>Silver</td>\n",
       "      <td>5</td>\n",
       "      <td>8467</td>\n",
       "    </tr>\n",
       "    <tr>\n",
       "      <th>19233</th>\n",
       "      <td>45778856</td>\n",
       "      <td>831</td>\n",
       "      <td>HYUNDAI</td>\n",
       "      <td>Sonata</td>\n",
       "      <td>2011</td>\n",
       "      <td>Sedan</td>\n",
       "      <td>Yes</td>\n",
       "      <td>Petrol</td>\n",
       "      <td>2.4</td>\n",
       "      <td>161600 km</td>\n",
       "      <td>4</td>\n",
       "      <td>Tiptronic</td>\n",
       "      <td>Front</td>\n",
       "      <td>04-May</td>\n",
       "      <td>Left wheel</td>\n",
       "      <td>Red</td>\n",
       "      <td>8</td>\n",
       "      <td>15681</td>\n",
       "    </tr>\n",
       "    <tr>\n",
       "      <th>19234</th>\n",
       "      <td>45804997</td>\n",
       "      <td>836</td>\n",
       "      <td>HYUNDAI</td>\n",
       "      <td>Tucson</td>\n",
       "      <td>2010</td>\n",
       "      <td>Jeep</td>\n",
       "      <td>Yes</td>\n",
       "      <td>Diesel</td>\n",
       "      <td>2</td>\n",
       "      <td>116365 km</td>\n",
       "      <td>4</td>\n",
       "      <td>Automatic</td>\n",
       "      <td>Front</td>\n",
       "      <td>04-May</td>\n",
       "      <td>Left wheel</td>\n",
       "      <td>Grey</td>\n",
       "      <td>4</td>\n",
       "      <td>26108</td>\n",
       "    </tr>\n",
       "    <tr>\n",
       "      <th>19235</th>\n",
       "      <td>45793526</td>\n",
       "      <td>1288</td>\n",
       "      <td>CHEVROLET</td>\n",
       "      <td>Captiva</td>\n",
       "      <td>2007</td>\n",
       "      <td>Jeep</td>\n",
       "      <td>Yes</td>\n",
       "      <td>Diesel</td>\n",
       "      <td>2</td>\n",
       "      <td>51258 km</td>\n",
       "      <td>4</td>\n",
       "      <td>Automatic</td>\n",
       "      <td>Front</td>\n",
       "      <td>04-May</td>\n",
       "      <td>Left wheel</td>\n",
       "      <td>Black</td>\n",
       "      <td>4</td>\n",
       "      <td>5331</td>\n",
       "    </tr>\n",
       "    <tr>\n",
       "      <th>19236</th>\n",
       "      <td>45813273</td>\n",
       "      <td>753</td>\n",
       "      <td>HYUNDAI</td>\n",
       "      <td>Sonata</td>\n",
       "      <td>2012</td>\n",
       "      <td>Sedan</td>\n",
       "      <td>Yes</td>\n",
       "      <td>Hybrid</td>\n",
       "      <td>2.4</td>\n",
       "      <td>186923 km</td>\n",
       "      <td>4</td>\n",
       "      <td>Automatic</td>\n",
       "      <td>Front</td>\n",
       "      <td>04-May</td>\n",
       "      <td>Left wheel</td>\n",
       "      <td>White</td>\n",
       "      <td>12</td>\n",
       "      <td>470</td>\n",
       "    </tr>\n",
       "  </tbody>\n",
       "</table>\n",
       "<p>19237 rows × 18 columns</p>\n",
       "</div>"
      ],
      "text/plain": [
       "             ID  Levy   Manufacturer    Model  Prod. year   Category  \\\n",
       "0      45654403  1399          LEXUS   RX 450        2010       Jeep   \n",
       "1      44731507  1018      CHEVROLET  Equinox        2011       Jeep   \n",
       "2      45774419     -          HONDA      FIT        2006  Hatchback   \n",
       "3      45769185   862           FORD   Escape        2011       Jeep   \n",
       "4      45809263   446          HONDA      FIT        2014  Hatchback   \n",
       "...         ...   ...            ...      ...         ...        ...   \n",
       "19232  45798355     -  MERCEDES-BENZ  CLK 200        1999      Coupe   \n",
       "19233  45778856   831        HYUNDAI   Sonata        2011      Sedan   \n",
       "19234  45804997   836        HYUNDAI   Tucson        2010       Jeep   \n",
       "19235  45793526  1288      CHEVROLET  Captiva        2007       Jeep   \n",
       "19236  45813273   753        HYUNDAI   Sonata        2012      Sedan   \n",
       "\n",
       "      Leather interior Fuel type Engine volume    Mileage  Cylinders  \\\n",
       "0                  Yes    Hybrid           3.5  186005 km          6   \n",
       "1                   No    Petrol             3  192000 km          6   \n",
       "2                   No    Petrol           1.3  200000 km          4   \n",
       "3                  Yes    Hybrid           2.5  168966 km          4   \n",
       "4                  Yes    Petrol           1.3   91901 km          4   \n",
       "...                ...       ...           ...        ...        ...   \n",
       "19232              Yes       CNG     2.0 Turbo  300000 km          4   \n",
       "19233              Yes    Petrol           2.4  161600 km          4   \n",
       "19234              Yes    Diesel             2  116365 km          4   \n",
       "19235              Yes    Diesel             2   51258 km          4   \n",
       "19236              Yes    Hybrid           2.4  186923 km          4   \n",
       "\n",
       "      Gear box type Drive wheels   Doors             Wheel   Color  Airbags  \\\n",
       "0         Automatic          4x4  04-May        Left wheel  Silver       12   \n",
       "1         Tiptronic          4x4  04-May        Left wheel   Black        8   \n",
       "2          Variator        Front  04-May  Right-hand drive   Black        2   \n",
       "3         Automatic          4x4  04-May        Left wheel   White        0   \n",
       "4         Automatic        Front  04-May        Left wheel  Silver        4   \n",
       "...             ...          ...     ...               ...     ...      ...   \n",
       "19232        Manual         Rear  02-Mar        Left wheel  Silver        5   \n",
       "19233     Tiptronic        Front  04-May        Left wheel     Red        8   \n",
       "19234     Automatic        Front  04-May        Left wheel    Grey        4   \n",
       "19235     Automatic        Front  04-May        Left wheel   Black        4   \n",
       "19236     Automatic        Front  04-May        Left wheel   White       12   \n",
       "\n",
       "       Price  \n",
       "0      13328  \n",
       "1      16621  \n",
       "2       8467  \n",
       "3       3607  \n",
       "4      11726  \n",
       "...      ...  \n",
       "19232   8467  \n",
       "19233  15681  \n",
       "19234  26108  \n",
       "19235   5331  \n",
       "19236    470  \n",
       "\n",
       "[19237 rows x 18 columns]"
      ]
     },
     "execution_count": 2,
     "metadata": {},
     "output_type": "execute_result"
    }
   ],
   "source": [
    "df=pd.read_csv('car_price_prediction.csv')\n",
    "df"
   ]
  },
  {
   "cell_type": "code",
   "execution_count": 3,
   "id": "cf94c3c8",
   "metadata": {},
   "outputs": [
    {
     "data": {
      "text/plain": [
       "ID                  0\n",
       "Levy                0\n",
       "Manufacturer        0\n",
       "Model               0\n",
       "Prod. year          0\n",
       "Category            0\n",
       "Leather interior    0\n",
       "Fuel type           0\n",
       "Engine volume       0\n",
       "Mileage             0\n",
       "Cylinders           0\n",
       "Gear box type       0\n",
       "Drive wheels        0\n",
       "Doors               0\n",
       "Wheel               0\n",
       "Color               0\n",
       "Airbags             0\n",
       "Price               0\n",
       "dtype: int64"
      ]
     },
     "execution_count": 3,
     "metadata": {},
     "output_type": "execute_result"
    }
   ],
   "source": [
    "df.isnull().sum()"
   ]
  },
  {
   "cell_type": "code",
   "execution_count": 4,
   "id": "8450078d",
   "metadata": {},
   "outputs": [
    {
     "data": {
      "text/html": [
       "<div>\n",
       "<style scoped>\n",
       "    .dataframe tbody tr th:only-of-type {\n",
       "        vertical-align: middle;\n",
       "    }\n",
       "\n",
       "    .dataframe tbody tr th {\n",
       "        vertical-align: top;\n",
       "    }\n",
       "\n",
       "    .dataframe thead th {\n",
       "        text-align: right;\n",
       "    }\n",
       "</style>\n",
       "<table border=\"1\" class=\"dataframe\">\n",
       "  <thead>\n",
       "    <tr style=\"text-align: right;\">\n",
       "      <th></th>\n",
       "      <th>Levy</th>\n",
       "      <th>Manufacturer</th>\n",
       "      <th>Model</th>\n",
       "      <th>Prod. year</th>\n",
       "      <th>Category</th>\n",
       "      <th>Leather interior</th>\n",
       "      <th>Fuel type</th>\n",
       "      <th>Engine volume</th>\n",
       "      <th>Mileage</th>\n",
       "      <th>Cylinders</th>\n",
       "      <th>Gear box type</th>\n",
       "      <th>Drive wheels</th>\n",
       "      <th>Doors</th>\n",
       "      <th>Wheel</th>\n",
       "      <th>Color</th>\n",
       "      <th>Airbags</th>\n",
       "      <th>Price</th>\n",
       "    </tr>\n",
       "  </thead>\n",
       "  <tbody>\n",
       "    <tr>\n",
       "      <th>0</th>\n",
       "      <td>1399</td>\n",
       "      <td>LEXUS</td>\n",
       "      <td>RX 450</td>\n",
       "      <td>2010</td>\n",
       "      <td>Jeep</td>\n",
       "      <td>Yes</td>\n",
       "      <td>Hybrid</td>\n",
       "      <td>3.5</td>\n",
       "      <td>186005 km</td>\n",
       "      <td>6</td>\n",
       "      <td>Automatic</td>\n",
       "      <td>4x4</td>\n",
       "      <td>04-May</td>\n",
       "      <td>Left wheel</td>\n",
       "      <td>Silver</td>\n",
       "      <td>12</td>\n",
       "      <td>13328</td>\n",
       "    </tr>\n",
       "    <tr>\n",
       "      <th>1</th>\n",
       "      <td>1018</td>\n",
       "      <td>CHEVROLET</td>\n",
       "      <td>Equinox</td>\n",
       "      <td>2011</td>\n",
       "      <td>Jeep</td>\n",
       "      <td>No</td>\n",
       "      <td>Petrol</td>\n",
       "      <td>3</td>\n",
       "      <td>192000 km</td>\n",
       "      <td>6</td>\n",
       "      <td>Tiptronic</td>\n",
       "      <td>4x4</td>\n",
       "      <td>04-May</td>\n",
       "      <td>Left wheel</td>\n",
       "      <td>Black</td>\n",
       "      <td>8</td>\n",
       "      <td>16621</td>\n",
       "    </tr>\n",
       "    <tr>\n",
       "      <th>2</th>\n",
       "      <td>-</td>\n",
       "      <td>HONDA</td>\n",
       "      <td>FIT</td>\n",
       "      <td>2006</td>\n",
       "      <td>Hatchback</td>\n",
       "      <td>No</td>\n",
       "      <td>Petrol</td>\n",
       "      <td>1.3</td>\n",
       "      <td>200000 km</td>\n",
       "      <td>4</td>\n",
       "      <td>Variator</td>\n",
       "      <td>Front</td>\n",
       "      <td>04-May</td>\n",
       "      <td>Right-hand drive</td>\n",
       "      <td>Black</td>\n",
       "      <td>2</td>\n",
       "      <td>8467</td>\n",
       "    </tr>\n",
       "    <tr>\n",
       "      <th>3</th>\n",
       "      <td>862</td>\n",
       "      <td>FORD</td>\n",
       "      <td>Escape</td>\n",
       "      <td>2011</td>\n",
       "      <td>Jeep</td>\n",
       "      <td>Yes</td>\n",
       "      <td>Hybrid</td>\n",
       "      <td>2.5</td>\n",
       "      <td>168966 km</td>\n",
       "      <td>4</td>\n",
       "      <td>Automatic</td>\n",
       "      <td>4x4</td>\n",
       "      <td>04-May</td>\n",
       "      <td>Left wheel</td>\n",
       "      <td>White</td>\n",
       "      <td>0</td>\n",
       "      <td>3607</td>\n",
       "    </tr>\n",
       "    <tr>\n",
       "      <th>4</th>\n",
       "      <td>446</td>\n",
       "      <td>HONDA</td>\n",
       "      <td>FIT</td>\n",
       "      <td>2014</td>\n",
       "      <td>Hatchback</td>\n",
       "      <td>Yes</td>\n",
       "      <td>Petrol</td>\n",
       "      <td>1.3</td>\n",
       "      <td>91901 km</td>\n",
       "      <td>4</td>\n",
       "      <td>Automatic</td>\n",
       "      <td>Front</td>\n",
       "      <td>04-May</td>\n",
       "      <td>Left wheel</td>\n",
       "      <td>Silver</td>\n",
       "      <td>4</td>\n",
       "      <td>11726</td>\n",
       "    </tr>\n",
       "    <tr>\n",
       "      <th>...</th>\n",
       "      <td>...</td>\n",
       "      <td>...</td>\n",
       "      <td>...</td>\n",
       "      <td>...</td>\n",
       "      <td>...</td>\n",
       "      <td>...</td>\n",
       "      <td>...</td>\n",
       "      <td>...</td>\n",
       "      <td>...</td>\n",
       "      <td>...</td>\n",
       "      <td>...</td>\n",
       "      <td>...</td>\n",
       "      <td>...</td>\n",
       "      <td>...</td>\n",
       "      <td>...</td>\n",
       "      <td>...</td>\n",
       "      <td>...</td>\n",
       "    </tr>\n",
       "    <tr>\n",
       "      <th>19232</th>\n",
       "      <td>-</td>\n",
       "      <td>MERCEDES-BENZ</td>\n",
       "      <td>CLK 200</td>\n",
       "      <td>1999</td>\n",
       "      <td>Coupe</td>\n",
       "      <td>Yes</td>\n",
       "      <td>CNG</td>\n",
       "      <td>2.0 Turbo</td>\n",
       "      <td>300000 km</td>\n",
       "      <td>4</td>\n",
       "      <td>Manual</td>\n",
       "      <td>Rear</td>\n",
       "      <td>02-Mar</td>\n",
       "      <td>Left wheel</td>\n",
       "      <td>Silver</td>\n",
       "      <td>5</td>\n",
       "      <td>8467</td>\n",
       "    </tr>\n",
       "    <tr>\n",
       "      <th>19233</th>\n",
       "      <td>831</td>\n",
       "      <td>HYUNDAI</td>\n",
       "      <td>Sonata</td>\n",
       "      <td>2011</td>\n",
       "      <td>Sedan</td>\n",
       "      <td>Yes</td>\n",
       "      <td>Petrol</td>\n",
       "      <td>2.4</td>\n",
       "      <td>161600 km</td>\n",
       "      <td>4</td>\n",
       "      <td>Tiptronic</td>\n",
       "      <td>Front</td>\n",
       "      <td>04-May</td>\n",
       "      <td>Left wheel</td>\n",
       "      <td>Red</td>\n",
       "      <td>8</td>\n",
       "      <td>15681</td>\n",
       "    </tr>\n",
       "    <tr>\n",
       "      <th>19234</th>\n",
       "      <td>836</td>\n",
       "      <td>HYUNDAI</td>\n",
       "      <td>Tucson</td>\n",
       "      <td>2010</td>\n",
       "      <td>Jeep</td>\n",
       "      <td>Yes</td>\n",
       "      <td>Diesel</td>\n",
       "      <td>2</td>\n",
       "      <td>116365 km</td>\n",
       "      <td>4</td>\n",
       "      <td>Automatic</td>\n",
       "      <td>Front</td>\n",
       "      <td>04-May</td>\n",
       "      <td>Left wheel</td>\n",
       "      <td>Grey</td>\n",
       "      <td>4</td>\n",
       "      <td>26108</td>\n",
       "    </tr>\n",
       "    <tr>\n",
       "      <th>19235</th>\n",
       "      <td>1288</td>\n",
       "      <td>CHEVROLET</td>\n",
       "      <td>Captiva</td>\n",
       "      <td>2007</td>\n",
       "      <td>Jeep</td>\n",
       "      <td>Yes</td>\n",
       "      <td>Diesel</td>\n",
       "      <td>2</td>\n",
       "      <td>51258 km</td>\n",
       "      <td>4</td>\n",
       "      <td>Automatic</td>\n",
       "      <td>Front</td>\n",
       "      <td>04-May</td>\n",
       "      <td>Left wheel</td>\n",
       "      <td>Black</td>\n",
       "      <td>4</td>\n",
       "      <td>5331</td>\n",
       "    </tr>\n",
       "    <tr>\n",
       "      <th>19236</th>\n",
       "      <td>753</td>\n",
       "      <td>HYUNDAI</td>\n",
       "      <td>Sonata</td>\n",
       "      <td>2012</td>\n",
       "      <td>Sedan</td>\n",
       "      <td>Yes</td>\n",
       "      <td>Hybrid</td>\n",
       "      <td>2.4</td>\n",
       "      <td>186923 km</td>\n",
       "      <td>4</td>\n",
       "      <td>Automatic</td>\n",
       "      <td>Front</td>\n",
       "      <td>04-May</td>\n",
       "      <td>Left wheel</td>\n",
       "      <td>White</td>\n",
       "      <td>12</td>\n",
       "      <td>470</td>\n",
       "    </tr>\n",
       "  </tbody>\n",
       "</table>\n",
       "<p>19237 rows × 17 columns</p>\n",
       "</div>"
      ],
      "text/plain": [
       "       Levy   Manufacturer    Model  Prod. year   Category Leather interior  \\\n",
       "0      1399          LEXUS   RX 450        2010       Jeep              Yes   \n",
       "1      1018      CHEVROLET  Equinox        2011       Jeep               No   \n",
       "2         -          HONDA      FIT        2006  Hatchback               No   \n",
       "3       862           FORD   Escape        2011       Jeep              Yes   \n",
       "4       446          HONDA      FIT        2014  Hatchback              Yes   \n",
       "...     ...            ...      ...         ...        ...              ...   \n",
       "19232     -  MERCEDES-BENZ  CLK 200        1999      Coupe              Yes   \n",
       "19233   831        HYUNDAI   Sonata        2011      Sedan              Yes   \n",
       "19234   836        HYUNDAI   Tucson        2010       Jeep              Yes   \n",
       "19235  1288      CHEVROLET  Captiva        2007       Jeep              Yes   \n",
       "19236   753        HYUNDAI   Sonata        2012      Sedan              Yes   \n",
       "\n",
       "      Fuel type Engine volume    Mileage  Cylinders Gear box type  \\\n",
       "0        Hybrid           3.5  186005 km          6     Automatic   \n",
       "1        Petrol             3  192000 km          6     Tiptronic   \n",
       "2        Petrol           1.3  200000 km          4      Variator   \n",
       "3        Hybrid           2.5  168966 km          4     Automatic   \n",
       "4        Petrol           1.3   91901 km          4     Automatic   \n",
       "...         ...           ...        ...        ...           ...   \n",
       "19232       CNG     2.0 Turbo  300000 km          4        Manual   \n",
       "19233    Petrol           2.4  161600 km          4     Tiptronic   \n",
       "19234    Diesel             2  116365 km          4     Automatic   \n",
       "19235    Diesel             2   51258 km          4     Automatic   \n",
       "19236    Hybrid           2.4  186923 km          4     Automatic   \n",
       "\n",
       "      Drive wheels   Doors             Wheel   Color  Airbags  Price  \n",
       "0              4x4  04-May        Left wheel  Silver       12  13328  \n",
       "1              4x4  04-May        Left wheel   Black        8  16621  \n",
       "2            Front  04-May  Right-hand drive   Black        2   8467  \n",
       "3              4x4  04-May        Left wheel   White        0   3607  \n",
       "4            Front  04-May        Left wheel  Silver        4  11726  \n",
       "...            ...     ...               ...     ...      ...    ...  \n",
       "19232         Rear  02-Mar        Left wheel  Silver        5   8467  \n",
       "19233        Front  04-May        Left wheel     Red        8  15681  \n",
       "19234        Front  04-May        Left wheel    Grey        4  26108  \n",
       "19235        Front  04-May        Left wheel   Black        4   5331  \n",
       "19236        Front  04-May        Left wheel   White       12    470  \n",
       "\n",
       "[19237 rows x 17 columns]"
      ]
     },
     "execution_count": 4,
     "metadata": {},
     "output_type": "execute_result"
    }
   ],
   "source": [
    "df=df.drop(columns=['ID'])\n",
    "df"
   ]
  },
  {
   "cell_type": "code",
   "execution_count": 5,
   "id": "0dab4aed",
   "metadata": {},
   "outputs": [
    {
     "data": {
      "text/plain": [
       "Index(['Levy', 'Manufacturer', 'Model', 'Prod. year', 'Category',\n",
       "       'Leather interior', 'Fuel type', 'Engine volume', 'Mileage',\n",
       "       'Cylinders', 'Gear box type', 'Drive wheels', 'Doors', 'Wheel', 'Color',\n",
       "       'Airbags', 'Price'],\n",
       "      dtype='object')"
      ]
     },
     "execution_count": 5,
     "metadata": {},
     "output_type": "execute_result"
    }
   ],
   "source": [
    "x=df.columns\n",
    "x"
   ]
  },
  {
   "cell_type": "markdown",
   "id": "8abf0ef0",
   "metadata": {},
   "source": [
    "1. **Price**: The amount of money required to purchase the car. This can vary based on factors like the car's condition, age, and features.\n",
    "\n",
    "\n",
    "\n",
    "2. **Levy**: A tax or fee imposed on the car, which can include import duties, registration fees, or environmental taxes.\n",
    "\n",
    "\n",
    "\n",
    "3. **Manufacturer**: The company or brand that produces the car, such as Toyota, Ford, or BMW.\n",
    "\n",
    "\n",
    "\n",
    "4. **Model**: The specific version or design of the car produced by the manufacturer, such as a Toyota Corolla or Ford Mustang.\n",
    "\n",
    "\n",
    "\n",
    "5. **Prod. year**: Short for \"Production year,\" this indicates the year the car was manufactured.\n",
    "\n",
    "\n",
    "\n",
    "6. **Category**: The classification of the car based on its type or use, such as sedan, SUV, truck, or convertible.\n",
    "\n",
    "\n",
    "\n",
    "7. **Leather interior**: Whether the car's seats and other interior surfaces are upholstered with leather.\n",
    "\n",
    "\n",
    "\n",
    "8. **Fuel type**: The kind of fuel the car uses, such as gasoline, diesel, electric, or hybrid.\n",
    "\n",
    "\n",
    "\n",
    "9. **Engine volume**: The total volume of all the cylinders in the car's engine, usually measured in liters (e.g., 2.0L).\n",
    "\n",
    "\n",
    "\n",
    "10. **Mileage**: The total distance the car has traveled, typically measured in miles or kilometers.\n",
    "\n",
    "\n",
    "\n",
    "11. **Cylinders**: The number of cylinders in the car's engine, which affects its power and efficiency.\n",
    "\n",
    "\n",
    "\n",
    "12. **Gear box type**: The type of transmission the car uses, such as manual, automatic, or semi-automatic.\n",
    "\n",
    "\n",
    "\n",
    "13. **Drive wheels**: The wheels that receive power from the engine, such as front-wheel drive (FWD), rear-wheel drive (RWD), or all-wheel drive (AWD).\n",
    "\n",
    "\n",
    "\n",
    "14. **Doors**: The number of doors on the car, including driver, passenger, and rear doors.\n",
    "\n",
    "\n",
    "\n",
    "15. **Wheel**: The car's wheel specifications, which can include size and type.\n",
    "\n",
    "\n",
    "\n",
    "16. **Color**: The color of the car's exterior paint.\n",
    "\n",
    "\n",
    "\n",
    "17. **Airbags**: The number and location of airbags in the car, which are safety features designed to protect occupants in case of a collision."
   ]
  },
  {
   "cell_type": "code",
   "execution_count": 6,
   "id": "fa9b96be",
   "metadata": {},
   "outputs": [
    {
     "data": {
      "image/png": "[encoded data removed]",
      "text/plain": [
       "<Figure size 1440x1800 with 8 Axes>"
      ]
     },
     "metadata": {
      "needs_background": "light"
     },
     "output_type": "display_data"
    }
   ],
   "source": [
    "import seaborn as sns\n",
    "import matplotlib.pyplot as plt\n",
    "\n",
    "# Define the list of categorical columns to analyze\n",
    "categorical_columns = ['Leather interior', 'Category', 'Fuel type', 'Gear box type',\n",
    "                       'Drive wheels', 'Wheel', 'Color', 'Doors']\n",
    "\n",
    "# Create subplots (4 rows x 3 columns to handle 10 columns)\n",
    "fig, axes = plt.subplots(nrows=4, ncols=2, figsize=(20, 25))\n",
    "axes = axes.ravel()  # Flatten the 2D array of axes\n",
    "\n",
    "# Loop through each categorical column\n",
    "for i, column in enumerate(categorical_columns):\n",
    "    sns.countplot(x=df[column], data=df, palette='bright', ax=axes[i], saturation=0.95)\n",
    "    for container in axes[i].containers:\n",
    "        axes[i].bar_label(container, color='black', size=10)\n",
    "        axes[i].set_title(f'Count Plot of {column.capitalize()}')\n",
    "        axes[i].set_xlabel(column.capitalize())\n",
    "        axes[i].set_ylabel('Count')\n",
    "\n",
    "# Remove any unused subplots\n",
    "for j in range(i + 1, len(axes)):\n",
    "    fig.delaxes(axes[j])\n",
    "\n",
    "# Adjust layout and show plots\n",
    "plt.tight_layout()\n",
    "plt.show()\n"
   ]
  },
  {
   "cell_type": "code",
   "execution_count": 7,
   "id": "56284335",
   "metadata": {},
   "outputs": [
    {
     "data": {
      "text/plain": [
       "Yes    13954\n",
       "No      5283\n",
       "Name: Leather interior, dtype: int64"
      ]
     },
     "execution_count": 7,
     "metadata": {},
     "output_type": "execute_result"
    }
   ],
   "source": [
    "df['Leather interior'].value_counts()"
   ]
  },
  {
   "cell_type": "code",
   "execution_count": 8,
   "id": "47bf476a",
   "metadata": {},
   "outputs": [],
   "source": [
    "df['Leather interior']=df['Leather interior'].replace('Yes',1)\n",
    "df['Leather interior']=df['Leather interior'].replace('No',0)\n"
   ]
  },
  {
   "cell_type": "code",
   "execution_count": 9,
   "id": "f84b08b5",
   "metadata": {},
   "outputs": [
    {
     "data": {
      "text/html": [
       "<div>\n",
       "<style scoped>\n",
       "    .dataframe tbody tr th:only-of-type {\n",
       "        vertical-align: middle;\n",
       "    }\n",
       "\n",
       "    .dataframe tbody tr th {\n",
       "        vertical-align: top;\n",
       "    }\n",
       "\n",
       "    .dataframe thead th {\n",
       "        text-align: right;\n",
       "    }\n",
       "</style>\n",
       "<table border=\"1\" class=\"dataframe\">\n",
       "  <thead>\n",
       "    <tr style=\"text-align: right;\">\n",
       "      <th></th>\n",
       "      <th>Prod. year</th>\n",
       "      <th>Leather interior</th>\n",
       "      <th>Cylinders</th>\n",
       "      <th>Airbags</th>\n",
       "      <th>Price</th>\n",
       "    </tr>\n",
       "  </thead>\n",
       "  <tbody>\n",
       "    <tr>\n",
       "      <th>count</th>\n",
       "      <td>19237.000000</td>\n",
       "      <td>19237.000000</td>\n",
       "      <td>19237.000000</td>\n",
       "      <td>19237.000000</td>\n",
       "      <td>1.923700e+04</td>\n",
       "    </tr>\n",
       "    <tr>\n",
       "      <th>mean</th>\n",
       "      <td>2010.912824</td>\n",
       "      <td>0.725373</td>\n",
       "      <td>4.582991</td>\n",
       "      <td>6.582627</td>\n",
       "      <td>1.855593e+04</td>\n",
       "    </tr>\n",
       "    <tr>\n",
       "      <th>std</th>\n",
       "      <td>5.668673</td>\n",
       "      <td>0.446338</td>\n",
       "      <td>1.199933</td>\n",
       "      <td>4.320168</td>\n",
       "      <td>1.905813e+05</td>\n",
       "    </tr>\n",
       "    <tr>\n",
       "      <th>min</th>\n",
       "      <td>1939.000000</td>\n",
       "      <td>0.000000</td>\n",
       "      <td>1.000000</td>\n",
       "      <td>0.000000</td>\n",
       "      <td>1.000000e+00</td>\n",
       "    </tr>\n",
       "    <tr>\n",
       "      <th>25%</th>\n",
       "      <td>2009.000000</td>\n",
       "      <td>0.000000</td>\n",
       "      <td>4.000000</td>\n",
       "      <td>4.000000</td>\n",
       "      <td>5.331000e+03</td>\n",
       "    </tr>\n",
       "    <tr>\n",
       "      <th>50%</th>\n",
       "      <td>2012.000000</td>\n",
       "      <td>1.000000</td>\n",
       "      <td>4.000000</td>\n",
       "      <td>6.000000</td>\n",
       "      <td>1.317200e+04</td>\n",
       "    </tr>\n",
       "    <tr>\n",
       "      <th>75%</th>\n",
       "      <td>2015.000000</td>\n",
       "      <td>1.000000</td>\n",
       "      <td>4.000000</td>\n",
       "      <td>12.000000</td>\n",
       "      <td>2.207500e+04</td>\n",
       "    </tr>\n",
       "    <tr>\n",
       "      <th>max</th>\n",
       "      <td>2020.000000</td>\n",
       "      <td>1.000000</td>\n",
       "      <td>16.000000</td>\n",
       "      <td>16.000000</td>\n",
       "      <td>2.630750e+07</td>\n",
       "    </tr>\n",
       "  </tbody>\n",
       "</table>\n",
       "</div>"
      ],
      "text/plain": [
       "         Prod. year  Leather interior     Cylinders       Airbags  \\\n",
       "count  19237.000000      19237.000000  19237.000000  19237.000000   \n",
       "mean    2010.912824          0.725373      4.582991      6.582627   \n",
       "std        5.668673          0.446338      1.199933      4.320168   \n",
       "min     1939.000000          0.000000      1.000000      0.000000   \n",
       "25%     2009.000000          0.000000      4.000000      4.000000   \n",
       "50%     2012.000000          1.000000      4.000000      6.000000   \n",
       "75%     2015.000000          1.000000      4.000000     12.000000   \n",
       "max     2020.000000          1.000000     16.000000     16.000000   \n",
       "\n",
       "              Price  \n",
       "count  1.923700e+04  \n",
       "mean   1.855593e+04  \n",
       "std    1.905813e+05  \n",
       "min    1.000000e+00  \n",
       "25%    5.331000e+03  \n",
       "50%    1.317200e+04  \n",
       "75%    2.207500e+04  \n",
       "max    2.630750e+07  "
      ]
     },
     "execution_count": 9,
     "metadata": {},
     "output_type": "execute_result"
    }
   ],
   "source": [
    "df.describe()"
   ]
  },
  {
   "cell_type": "code",
   "execution_count": 10,
   "id": "18dc8a28",
   "metadata": {},
   "outputs": [],
   "source": [
    "l=df.columns"
   ]
  },
  {
   "cell_type": "code",
   "execution_count": 11,
   "id": "e229ed79",
   "metadata": {},
   "outputs": [],
   "source": [
    "l=l.drop('Price')\n",
    "l=l.drop('Prod. year')\n",
    "l=l.drop('Leather interior')\n",
    "l=l.drop('Cylinders')\n",
    "l=l.drop('Airbags')"
   ]
  },
  {
   "cell_type": "code",
   "execution_count": 12,
   "id": "12bd5f61",
   "metadata": {},
   "outputs": [
    {
     "data": {
      "text/plain": [
       "HYUNDAI          3769\n",
       "TOYOTA           3662\n",
       "MERCEDES-BENZ    2076\n",
       "FORD             1111\n",
       "CHEVROLET        1069\n",
       "                 ... \n",
       "TESLA               1\n",
       "PONTIAC             1\n",
       "SATURN              1\n",
       "ASTON MARTIN        1\n",
       "GREATWALL           1\n",
       "Name: Manufacturer, Length: 65, dtype: int64"
      ]
     },
     "execution_count": 12,
     "metadata": {},
     "output_type": "execute_result"
    }
   ],
   "source": [
    "df['Manufacturer'].value_counts()"
   ]
  },
  {
   "cell_type": "code",
   "execution_count": 13,
   "id": "df67d51c",
   "metadata": {},
   "outputs": [],
   "source": [
    "from sklearn.preprocessing import LabelEncoder\n",
    "label_encoder = LabelEncoder()"
   ]
  },
  {
   "cell_type": "code",
   "execution_count": 14,
   "id": "eeab565d",
   "metadata": {},
   "outputs": [],
   "source": [
    "df['Manufacturer']=label_encoder.fit_transform(df['Manufacturer'])\n"
   ]
  },
  {
   "cell_type": "code",
   "execution_count": 15,
   "id": "31c82da1",
   "metadata": {},
   "outputs": [],
   "source": [
    "l=l.drop('Manufacturer')"
   ]
  },
  {
   "cell_type": "code",
   "execution_count": 16,
   "id": "ba017392",
   "metadata": {},
   "outputs": [
    {
     "data": {
      "text/plain": [
       "Index(['Levy', 'Model', 'Category', 'Fuel type', 'Engine volume', 'Mileage',\n",
       "       'Gear box type', 'Drive wheels', 'Doors', 'Wheel', 'Color'],\n",
       "      dtype='object')"
      ]
     },
     "execution_count": 16,
     "metadata": {},
     "output_type": "execute_result"
    }
   ],
   "source": [
    "l"
   ]
  },
  {
   "cell_type": "code",
   "execution_count": 17,
   "id": "bfa2e872",
   "metadata": {},
   "outputs": [
    {
     "data": {
      "text/plain": [
       "Prius                    1083\n",
       "Sonata                   1079\n",
       "Camry                     938\n",
       "Elantra                   922\n",
       "E 350                     542\n",
       "                         ... \n",
       "Feroza                      1\n",
       "C-MAX C-MAX                 1\n",
       "X1 4X4                      1\n",
       "Land Cruiser Prado RX       1\n",
       "Prius C aqua                1\n",
       "Name: Model, Length: 1590, dtype: int64"
      ]
     },
     "execution_count": 17,
     "metadata": {},
     "output_type": "execute_result"
    }
   ],
   "source": [
    "df['Model'].value_counts()"
   ]
  },
  {
   "cell_type": "code",
   "execution_count": 18,
   "id": "e5f2f8a8",
   "metadata": {},
   "outputs": [],
   "source": [
    "df['Model']=label_encoder.fit_transform(df['Model'])\n"
   ]
  },
  {
   "cell_type": "code",
   "execution_count": 19,
   "id": "316b2557",
   "metadata": {},
   "outputs": [
    {
     "data": {
      "text/plain": [
       "Index(['Levy', 'Category', 'Fuel type', 'Engine volume', 'Mileage',\n",
       "       'Gear box type', 'Drive wheels', 'Doors', 'Wheel', 'Color'],\n",
       "      dtype='object')"
      ]
     },
     "execution_count": 19,
     "metadata": {},
     "output_type": "execute_result"
    }
   ],
   "source": [
    "l=l.drop('Model')\n",
    "l"
   ]
  },
  {
   "cell_type": "code",
   "execution_count": 20,
   "id": "296a7482",
   "metadata": {},
   "outputs": [
    {
     "data": {
      "text/plain": [
       "Sedan          8736\n",
       "Jeep           5473\n",
       "Hatchback      2847\n",
       "Minivan         647\n",
       "Coupe           532\n",
       "Universal       364\n",
       "Microbus        306\n",
       "Goods wagon     233\n",
       "Pickup           52\n",
       "Cabriolet        36\n",
       "Limousine        11\n",
       "Name: Category, dtype: int64"
      ]
     },
     "execution_count": 20,
     "metadata": {},
     "output_type": "execute_result"
    }
   ],
   "source": [
    "df['Category'].value_counts()"
   ]
  },
  {
   "cell_type": "code",
   "execution_count": 21,
   "id": "b6ad4422",
   "metadata": {},
   "outputs": [],
   "source": [
    "df['Category']=label_encoder.fit_transform(df['Category'])\n"
   ]
  },
  {
   "cell_type": "code",
   "execution_count": 22,
   "id": "9060707b",
   "metadata": {},
   "outputs": [
    {
     "data": {
      "text/plain": [
       "Index(['Levy', 'Fuel type', 'Engine volume', 'Mileage', 'Gear box type',\n",
       "       'Drive wheels', 'Doors', 'Wheel', 'Color'],\n",
       "      dtype='object')"
      ]
     },
     "execution_count": 22,
     "metadata": {},
     "output_type": "execute_result"
    }
   ],
   "source": [
    "l=l.drop('Category')\n",
    "l"
   ]
  },
  {
   "cell_type": "code",
   "execution_count": 23,
   "id": "16dfc1c0",
   "metadata": {},
   "outputs": [
    {
     "data": {
      "text/plain": [
       "Petrol            10150\n",
       "Diesel             4036\n",
       "Hybrid             3578\n",
       "LPG                 892\n",
       "CNG                 494\n",
       "Plug-in Hybrid       86\n",
       "Hydrogen              1\n",
       "Name: Fuel type, dtype: int64"
      ]
     },
     "execution_count": 23,
     "metadata": {},
     "output_type": "execute_result"
    }
   ],
   "source": [
    "df['Fuel type'].value_counts()\n"
   ]
  },
  {
   "cell_type": "code",
   "execution_count": 24,
   "id": "3930ec78",
   "metadata": {},
   "outputs": [],
   "source": [
    "df['Fuel type']=label_encoder.fit_transform(df['Fuel type'])"
   ]
  },
  {
   "cell_type": "code",
   "execution_count": 25,
   "id": "e84d7184",
   "metadata": {},
   "outputs": [
    {
     "data": {
      "text/plain": [
       "Index(['Levy', 'Engine volume', 'Mileage', 'Gear box type', 'Drive wheels',\n",
       "       'Doors', 'Wheel', 'Color'],\n",
       "      dtype='object')"
      ]
     },
     "execution_count": 25,
     "metadata": {},
     "output_type": "execute_result"
    }
   ],
   "source": [
    "l=l.drop('Fuel type')\n",
    "l"
   ]
  },
  {
   "cell_type": "code",
   "execution_count": 26,
   "id": "1c5f9e3c",
   "metadata": {},
   "outputs": [
    {
     "data": {
      "text/plain": [
       "2            3916\n",
       "2.5          2277\n",
       "1.8          1760\n",
       "1.6          1462\n",
       "1.5          1321\n",
       "             ... \n",
       "6.8             1\n",
       "6.7             1\n",
       "3.1             1\n",
       "0.8 Turbo       1\n",
       "1.1 Turbo       1\n",
       "Name: Engine volume, Length: 107, dtype: int64"
      ]
     },
     "execution_count": 26,
     "metadata": {},
     "output_type": "execute_result"
    }
   ],
   "source": [
    "df['Engine volume'].value_counts()"
   ]
  },
  {
   "cell_type": "code",
   "execution_count": 27,
   "id": "3770e9cf",
   "metadata": {},
   "outputs": [
    {
     "data": {
      "text/plain": [
       "Index(['Levy', 'Mileage', 'Gear box type', 'Drive wheels', 'Doors', 'Wheel',\n",
       "       'Color'],\n",
       "      dtype='object')"
      ]
     },
     "execution_count": 27,
     "metadata": {},
     "output_type": "execute_result"
    }
   ],
   "source": [
    "l=l.drop('Engine volume')\n",
    "l"
   ]
  },
  {
   "cell_type": "code",
   "execution_count": 28,
   "id": "59f5a06f",
   "metadata": {},
   "outputs": [
    {
     "data": {
      "text/plain": [
       "0 km         721\n",
       "200000 km    183\n",
       "150000 km    161\n",
       "160000 km    120\n",
       "100000 km    119\n",
       "            ... \n",
       "63083 km       1\n",
       "28750 km       1\n",
       "25077 km       1\n",
       "77452 km       1\n",
       "186923 km      1\n",
       "Name: Mileage, Length: 7687, dtype: int64"
      ]
     },
     "execution_count": 28,
     "metadata": {},
     "output_type": "execute_result"
    }
   ],
   "source": [
    "df['Mileage'].value_counts()"
   ]
  },
  {
   "cell_type": "code",
   "execution_count": 29,
   "id": "dcbe3012",
   "metadata": {},
   "outputs": [
    {
     "data": {
      "text/plain": [
       "'186005 km'"
      ]
     },
     "execution_count": 29,
     "metadata": {},
     "output_type": "execute_result"
    }
   ],
   "source": [
    "df['Mileage'][0]"
   ]
  },
  {
   "cell_type": "code",
   "execution_count": 30,
   "id": "151a128a",
   "metadata": {},
   "outputs": [],
   "source": [
    "def extract_number(value):\n",
    "    return int(''.join(filter(str.isdigit, value)))"
   ]
  },
  {
   "cell_type": "code",
   "execution_count": 31,
   "id": "260d4f29",
   "metadata": {},
   "outputs": [],
   "source": [
    "df['Mileage'] = df['Mileage'].apply(extract_number)"
   ]
  },
  {
   "cell_type": "code",
   "execution_count": 32,
   "id": "77515d91",
   "metadata": {},
   "outputs": [
    {
     "data": {
      "text/plain": [
       "0         721\n",
       "200000    183\n",
       "150000    161\n",
       "160000    120\n",
       "100000    119\n",
       "         ... \n",
       "63083       1\n",
       "28750       1\n",
       "25077       1\n",
       "77452       1\n",
       "186923      1\n",
       "Name: Mileage, Length: 7687, dtype: int64"
      ]
     },
     "execution_count": 32,
     "metadata": {},
     "output_type": "execute_result"
    }
   ],
   "source": [
    "df['Mileage'].value_counts()"
   ]
  },
  {
   "cell_type": "code",
   "execution_count": 33,
   "id": "c344ea02",
   "metadata": {},
   "outputs": [
    {
     "data": {
      "text/plain": [
       "Index(['Levy', 'Gear box type', 'Drive wheels', 'Doors', 'Wheel', 'Color'], dtype='object')"
      ]
     },
     "execution_count": 33,
     "metadata": {},
     "output_type": "execute_result"
    }
   ],
   "source": [
    "l=l.drop('Mileage')\n",
    "l"
   ]
  },
  {
   "cell_type": "code",
   "execution_count": 34,
   "id": "1164215a",
   "metadata": {},
   "outputs": [
    {
     "data": {
      "text/plain": [
       "Automatic    13514\n",
       "Tiptronic     3102\n",
       "Manual        1875\n",
       "Variator       746\n",
       "Name: Gear box type, dtype: int64"
      ]
     },
     "execution_count": 34,
     "metadata": {},
     "output_type": "execute_result"
    }
   ],
   "source": [
    "df['Gear box type'].value_counts()\n"
   ]
  },
  {
   "cell_type": "code",
   "execution_count": 35,
   "id": "b34757c3",
   "metadata": {},
   "outputs": [],
   "source": [
    "df['Gear box type']=label_encoder.fit_transform(df['Gear box type'])"
   ]
  },
  {
   "cell_type": "code",
   "execution_count": 36,
   "id": "328be9f8",
   "metadata": {},
   "outputs": [
    {
     "data": {
      "text/plain": [
       "Index(['Levy', 'Drive wheels', 'Doors', 'Wheel', 'Color'], dtype='object')"
      ]
     },
     "execution_count": 36,
     "metadata": {},
     "output_type": "execute_result"
    }
   ],
   "source": [
    "l=l.drop('Gear box type')\n",
    "l"
   ]
  },
  {
   "cell_type": "code",
   "execution_count": 37,
   "id": "dcf0b0b3",
   "metadata": {},
   "outputs": [
    {
     "data": {
      "text/plain": [
       "Front    12874\n",
       "4x4       4058\n",
       "Rear      2305\n",
       "Name: Drive wheels, dtype: int64"
      ]
     },
     "execution_count": 37,
     "metadata": {},
     "output_type": "execute_result"
    }
   ],
   "source": [
    "df['Drive wheels'].value_counts()\n"
   ]
  },
  {
   "cell_type": "code",
   "execution_count": 38,
   "id": "7b82ce79",
   "metadata": {},
   "outputs": [],
   "source": [
    "df['Drive wheels']=label_encoder.fit_transform(df['Drive wheels'])"
   ]
  },
  {
   "cell_type": "code",
   "execution_count": 39,
   "id": "8dc37a50",
   "metadata": {},
   "outputs": [
    {
     "data": {
      "text/plain": [
       "Index(['Levy', 'Doors', 'Wheel', 'Color'], dtype='object')"
      ]
     },
     "execution_count": 39,
     "metadata": {},
     "output_type": "execute_result"
    }
   ],
   "source": [
    "l=l.drop('Drive wheels')\n",
    "l"
   ]
  },
  {
   "cell_type": "code",
   "execution_count": 40,
   "id": "3c18dde8",
   "metadata": {},
   "outputs": [
    {
     "data": {
      "text/plain": [
       "Left wheel          17753\n",
       "Right-hand drive     1484\n",
       "Name: Wheel, dtype: int64"
      ]
     },
     "execution_count": 40,
     "metadata": {},
     "output_type": "execute_result"
    }
   ],
   "source": [
    "df['Wheel'].value_counts()\n"
   ]
  },
  {
   "cell_type": "code",
   "execution_count": 41,
   "id": "b6524968",
   "metadata": {},
   "outputs": [],
   "source": [
    "df['Wheel']=label_encoder.fit_transform(df['Wheel'])"
   ]
  },
  {
   "cell_type": "code",
   "execution_count": 42,
   "id": "5a25bb9d",
   "metadata": {},
   "outputs": [
    {
     "data": {
      "text/plain": [
       "Index(['Levy', 'Doors', 'Color'], dtype='object')"
      ]
     },
     "execution_count": 42,
     "metadata": {},
     "output_type": "execute_result"
    }
   ],
   "source": [
    "l=l.drop('Wheel')\n",
    "l"
   ]
  },
  {
   "cell_type": "code",
   "execution_count": 43,
   "id": "2ddb985f",
   "metadata": {},
   "outputs": [
    {
     "data": {
      "text/plain": [
       "Black            5033\n",
       "White            4489\n",
       "Silver           3792\n",
       "Grey             2375\n",
       "Blue             1396\n",
       "Red               639\n",
       "Green             322\n",
       "Orange            253\n",
       "Brown             187\n",
       "Carnelian red     179\n",
       "Golden            145\n",
       "Beige             134\n",
       "Sky blue          122\n",
       "Yellow            106\n",
       "Purple             39\n",
       "Pink               26\n",
       "Name: Color, dtype: int64"
      ]
     },
     "execution_count": 43,
     "metadata": {},
     "output_type": "execute_result"
    }
   ],
   "source": [
    "df['Color'].value_counts()"
   ]
  },
  {
   "cell_type": "code",
   "execution_count": 44,
   "id": "9c6346b9",
   "metadata": {},
   "outputs": [],
   "source": [
    "df['Color']=label_encoder.fit_transform(df['Color'])\n"
   ]
  },
  {
   "cell_type": "code",
   "execution_count": 45,
   "id": "800e6462",
   "metadata": {},
   "outputs": [
    {
     "data": {
      "text/plain": [
       "Index(['Levy', 'Doors'], dtype='object')"
      ]
     },
     "execution_count": 45,
     "metadata": {},
     "output_type": "execute_result"
    }
   ],
   "source": [
    "l=l.drop('Color')\n",
    "l"
   ]
  },
  {
   "cell_type": "code",
   "execution_count": 46,
   "id": "3e38e417",
   "metadata": {},
   "outputs": [
    {
     "data": {
      "text/plain": [
       "-       5819\n",
       "765      486\n",
       "891      461\n",
       "639      410\n",
       "640      405\n",
       "        ... \n",
       "3156       1\n",
       "2908       1\n",
       "1279       1\n",
       "1719       1\n",
       "1901       1\n",
       "Name: Levy, Length: 559, dtype: int64"
      ]
     },
     "execution_count": 46,
     "metadata": {},
     "output_type": "execute_result"
    }
   ],
   "source": [
    "df['Levy'].value_counts()"
   ]
  },
  {
   "cell_type": "code",
   "execution_count": 47,
   "id": "9299f7c0",
   "metadata": {},
   "outputs": [],
   "source": [
    "df['Levy']=df['Levy'].replace('-',0)"
   ]
  },
  {
   "cell_type": "code",
   "execution_count": 48,
   "id": "586022ae",
   "metadata": {},
   "outputs": [
    {
     "data": {
      "text/plain": [
       "Index(['Doors'], dtype='object')"
      ]
     },
     "execution_count": 48,
     "metadata": {},
     "output_type": "execute_result"
    }
   ],
   "source": [
    "l=l.drop('Levy')\n",
    "l"
   ]
  },
  {
   "cell_type": "code",
   "execution_count": 49,
   "id": "e7e723a5",
   "metadata": {},
   "outputs": [
    {
     "data": {
      "text/plain": [
       "04-May    18332\n",
       "02-Mar      777\n",
       ">5          128\n",
       "Name: Doors, dtype: int64"
      ]
     },
     "execution_count": 49,
     "metadata": {},
     "output_type": "execute_result"
    }
   ],
   "source": [
    "df['Doors'].value_counts()"
   ]
  },
  {
   "cell_type": "code",
   "execution_count": 50,
   "id": "45054234",
   "metadata": {},
   "outputs": [],
   "source": [
    "df['Doors']=label_encoder.fit_transform(df['Doors'])\n"
   ]
  },
  {
   "cell_type": "code",
   "execution_count": 51,
   "id": "ff5d9416",
   "metadata": {},
   "outputs": [
    {
     "data": {
      "text/html": [
       "<div>\n",
       "<style scoped>\n",
       "    .dataframe tbody tr th:only-of-type {\n",
       "        vertical-align: middle;\n",
       "    }\n",
       "\n",
       "    .dataframe tbody tr th {\n",
       "        vertical-align: top;\n",
       "    }\n",
       "\n",
       "    .dataframe thead th {\n",
       "        text-align: right;\n",
       "    }\n",
       "</style>\n",
       "<table border=\"1\" class=\"dataframe\">\n",
       "  <thead>\n",
       "    <tr style=\"text-align: right;\">\n",
       "      <th></th>\n",
       "      <th>Levy</th>\n",
       "      <th>Manufacturer</th>\n",
       "      <th>Model</th>\n",
       "      <th>Prod. year</th>\n",
       "      <th>Category</th>\n",
       "      <th>Leather interior</th>\n",
       "      <th>Fuel type</th>\n",
       "      <th>Engine volume</th>\n",
       "      <th>Mileage</th>\n",
       "      <th>Cylinders</th>\n",
       "      <th>Gear box type</th>\n",
       "      <th>Drive wheels</th>\n",
       "      <th>Doors</th>\n",
       "      <th>Wheel</th>\n",
       "      <th>Color</th>\n",
       "      <th>Airbags</th>\n",
       "      <th>Price</th>\n",
       "    </tr>\n",
       "  </thead>\n",
       "  <tbody>\n",
       "    <tr>\n",
       "      <th>0</th>\n",
       "      <td>1399</td>\n",
       "      <td>32</td>\n",
       "      <td>1242</td>\n",
       "      <td>2010</td>\n",
       "      <td>4</td>\n",
       "      <td>1</td>\n",
       "      <td>2</td>\n",
       "      <td>3.5</td>\n",
       "      <td>186005</td>\n",
       "      <td>6</td>\n",
       "      <td>0</td>\n",
       "      <td>0</td>\n",
       "      <td>1</td>\n",
       "      <td>0</td>\n",
       "      <td>12</td>\n",
       "      <td>12</td>\n",
       "      <td>13328</td>\n",
       "    </tr>\n",
       "    <tr>\n",
       "      <th>1</th>\n",
       "      <td>1018</td>\n",
       "      <td>8</td>\n",
       "      <td>658</td>\n",
       "      <td>2011</td>\n",
       "      <td>4</td>\n",
       "      <td>0</td>\n",
       "      <td>5</td>\n",
       "      <td>3</td>\n",
       "      <td>192000</td>\n",
       "      <td>6</td>\n",
       "      <td>2</td>\n",
       "      <td>0</td>\n",
       "      <td>1</td>\n",
       "      <td>0</td>\n",
       "      <td>1</td>\n",
       "      <td>8</td>\n",
       "      <td>16621</td>\n",
       "    </tr>\n",
       "    <tr>\n",
       "      <th>2</th>\n",
       "      <td>0</td>\n",
       "      <td>21</td>\n",
       "      <td>684</td>\n",
       "      <td>2006</td>\n",
       "      <td>3</td>\n",
       "      <td>0</td>\n",
       "      <td>5</td>\n",
       "      <td>1.3</td>\n",
       "      <td>200000</td>\n",
       "      <td>4</td>\n",
       "      <td>3</td>\n",
       "      <td>1</td>\n",
       "      <td>1</td>\n",
       "      <td>1</td>\n",
       "      <td>1</td>\n",
       "      <td>2</td>\n",
       "      <td>8467</td>\n",
       "    </tr>\n",
       "    <tr>\n",
       "      <th>3</th>\n",
       "      <td>862</td>\n",
       "      <td>16</td>\n",
       "      <td>661</td>\n",
       "      <td>2011</td>\n",
       "      <td>4</td>\n",
       "      <td>1</td>\n",
       "      <td>2</td>\n",
       "      <td>2.5</td>\n",
       "      <td>168966</td>\n",
       "      <td>4</td>\n",
       "      <td>0</td>\n",
       "      <td>0</td>\n",
       "      <td>1</td>\n",
       "      <td>0</td>\n",
       "      <td>14</td>\n",
       "      <td>0</td>\n",
       "      <td>3607</td>\n",
       "    </tr>\n",
       "    <tr>\n",
       "      <th>4</th>\n",
       "      <td>446</td>\n",
       "      <td>21</td>\n",
       "      <td>684</td>\n",
       "      <td>2014</td>\n",
       "      <td>3</td>\n",
       "      <td>1</td>\n",
       "      <td>5</td>\n",
       "      <td>1.3</td>\n",
       "      <td>91901</td>\n",
       "      <td>4</td>\n",
       "      <td>0</td>\n",
       "      <td>1</td>\n",
       "      <td>1</td>\n",
       "      <td>0</td>\n",
       "      <td>12</td>\n",
       "      <td>4</td>\n",
       "      <td>11726</td>\n",
       "    </tr>\n",
       "    <tr>\n",
       "      <th>...</th>\n",
       "      <td>...</td>\n",
       "      <td>...</td>\n",
       "      <td>...</td>\n",
       "      <td>...</td>\n",
       "      <td>...</td>\n",
       "      <td>...</td>\n",
       "      <td>...</td>\n",
       "      <td>...</td>\n",
       "      <td>...</td>\n",
       "      <td>...</td>\n",
       "      <td>...</td>\n",
       "      <td>...</td>\n",
       "      <td>...</td>\n",
       "      <td>...</td>\n",
       "      <td>...</td>\n",
       "      <td>...</td>\n",
       "      <td>...</td>\n",
       "    </tr>\n",
       "    <tr>\n",
       "      <th>19232</th>\n",
       "      <td>0</td>\n",
       "      <td>36</td>\n",
       "      <td>385</td>\n",
       "      <td>1999</td>\n",
       "      <td>1</td>\n",
       "      <td>1</td>\n",
       "      <td>0</td>\n",
       "      <td>2.0 Turbo</td>\n",
       "      <td>300000</td>\n",
       "      <td>4</td>\n",
       "      <td>1</td>\n",
       "      <td>2</td>\n",
       "      <td>0</td>\n",
       "      <td>0</td>\n",
       "      <td>12</td>\n",
       "      <td>5</td>\n",
       "      <td>8467</td>\n",
       "    </tr>\n",
       "    <tr>\n",
       "      <th>19233</th>\n",
       "      <td>831</td>\n",
       "      <td>23</td>\n",
       "      <td>1334</td>\n",
       "      <td>2011</td>\n",
       "      <td>9</td>\n",
       "      <td>1</td>\n",
       "      <td>5</td>\n",
       "      <td>2.4</td>\n",
       "      <td>161600</td>\n",
       "      <td>4</td>\n",
       "      <td>2</td>\n",
       "      <td>1</td>\n",
       "      <td>1</td>\n",
       "      <td>0</td>\n",
       "      <td>11</td>\n",
       "      <td>8</td>\n",
       "      <td>15681</td>\n",
       "    </tr>\n",
       "    <tr>\n",
       "      <th>19234</th>\n",
       "      <td>836</td>\n",
       "      <td>23</td>\n",
       "      <td>1442</td>\n",
       "      <td>2010</td>\n",
       "      <td>4</td>\n",
       "      <td>1</td>\n",
       "      <td>1</td>\n",
       "      <td>2</td>\n",
       "      <td>116365</td>\n",
       "      <td>4</td>\n",
       "      <td>0</td>\n",
       "      <td>1</td>\n",
       "      <td>1</td>\n",
       "      <td>0</td>\n",
       "      <td>7</td>\n",
       "      <td>4</td>\n",
       "      <td>26108</td>\n",
       "    </tr>\n",
       "    <tr>\n",
       "      <th>19235</th>\n",
       "      <td>1288</td>\n",
       "      <td>8</td>\n",
       "      <td>456</td>\n",
       "      <td>2007</td>\n",
       "      <td>4</td>\n",
       "      <td>1</td>\n",
       "      <td>1</td>\n",
       "      <td>2</td>\n",
       "      <td>51258</td>\n",
       "      <td>4</td>\n",
       "      <td>0</td>\n",
       "      <td>1</td>\n",
       "      <td>1</td>\n",
       "      <td>0</td>\n",
       "      <td>1</td>\n",
       "      <td>4</td>\n",
       "      <td>5331</td>\n",
       "    </tr>\n",
       "    <tr>\n",
       "      <th>19236</th>\n",
       "      <td>753</td>\n",
       "      <td>23</td>\n",
       "      <td>1334</td>\n",
       "      <td>2012</td>\n",
       "      <td>9</td>\n",
       "      <td>1</td>\n",
       "      <td>2</td>\n",
       "      <td>2.4</td>\n",
       "      <td>186923</td>\n",
       "      <td>4</td>\n",
       "      <td>0</td>\n",
       "      <td>1</td>\n",
       "      <td>1</td>\n",
       "      <td>0</td>\n",
       "      <td>14</td>\n",
       "      <td>12</td>\n",
       "      <td>470</td>\n",
       "    </tr>\n",
       "  </tbody>\n",
       "</table>\n",
       "<p>19237 rows × 17 columns</p>\n",
       "</div>"
      ],
      "text/plain": [
       "       Levy  Manufacturer  Model  Prod. year  Category  Leather interior  \\\n",
       "0      1399            32   1242        2010         4                 1   \n",
       "1      1018             8    658        2011         4                 0   \n",
       "2         0            21    684        2006         3                 0   \n",
       "3       862            16    661        2011         4                 1   \n",
       "4       446            21    684        2014         3                 1   \n",
       "...     ...           ...    ...         ...       ...               ...   \n",
       "19232     0            36    385        1999         1                 1   \n",
       "19233   831            23   1334        2011         9                 1   \n",
       "19234   836            23   1442        2010         4                 1   \n",
       "19235  1288             8    456        2007         4                 1   \n",
       "19236   753            23   1334        2012         9                 1   \n",
       "\n",
       "       Fuel type Engine volume  Mileage  Cylinders  Gear box type  \\\n",
       "0              2           3.5   186005          6              0   \n",
       "1              5             3   192000          6              2   \n",
       "2              5           1.3   200000          4              3   \n",
       "3              2           2.5   168966          4              0   \n",
       "4              5           1.3    91901          4              0   \n",
       "...          ...           ...      ...        ...            ...   \n",
       "19232          0     2.0 Turbo   300000          4              1   \n",
       "19233          5           2.4   161600          4              2   \n",
       "19234          1             2   116365          4              0   \n",
       "19235          1             2    51258          4              0   \n",
       "19236          2           2.4   186923          4              0   \n",
       "\n",
       "       Drive wheels  Doors  Wheel  Color  Airbags  Price  \n",
       "0                 0      1      0     12       12  13328  \n",
       "1                 0      1      0      1        8  16621  \n",
       "2                 1      1      1      1        2   8467  \n",
       "3                 0      1      0     14        0   3607  \n",
       "4                 1      1      0     12        4  11726  \n",
       "...             ...    ...    ...    ...      ...    ...  \n",
       "19232             2      0      0     12        5   8467  \n",
       "19233             1      1      0     11        8  15681  \n",
       "19234             1      1      0      7        4  26108  \n",
       "19235             1      1      0      1        4   5331  \n",
       "19236             1      1      0     14       12    470  \n",
       "\n",
       "[19237 rows x 17 columns]"
      ]
     },
     "execution_count": 51,
     "metadata": {},
     "output_type": "execute_result"
    }
   ],
   "source": [
    "df"
   ]
  },
  {
   "cell_type": "code",
   "execution_count": 52,
   "id": "eea6aa68",
   "metadata": {},
   "outputs": [],
   "source": [
    "df['Levy']=df['Levy'].astype(int)"
   ]
  },
  {
   "cell_type": "code",
   "execution_count": 53,
   "id": "3e3c82a4",
   "metadata": {},
   "outputs": [
    {
     "data": {
      "text/html": [
       "<div>\n",
       "<style scoped>\n",
       "    .dataframe tbody tr th:only-of-type {\n",
       "        vertical-align: middle;\n",
       "    }\n",
       "\n",
       "    .dataframe tbody tr th {\n",
       "        vertical-align: top;\n",
       "    }\n",
       "\n",
       "    .dataframe thead th {\n",
       "        text-align: right;\n",
       "    }\n",
       "</style>\n",
       "<table border=\"1\" class=\"dataframe\">\n",
       "  <thead>\n",
       "    <tr style=\"text-align: right;\">\n",
       "      <th></th>\n",
       "      <th>Levy</th>\n",
       "      <th>Manufacturer</th>\n",
       "      <th>Model</th>\n",
       "      <th>Prod. year</th>\n",
       "      <th>Category</th>\n",
       "      <th>Leather interior</th>\n",
       "      <th>Fuel type</th>\n",
       "      <th>Mileage</th>\n",
       "      <th>Cylinders</th>\n",
       "      <th>Gear box type</th>\n",
       "      <th>Drive wheels</th>\n",
       "      <th>Doors</th>\n",
       "      <th>Wheel</th>\n",
       "      <th>Color</th>\n",
       "      <th>Airbags</th>\n",
       "      <th>Price</th>\n",
       "    </tr>\n",
       "  </thead>\n",
       "  <tbody>\n",
       "    <tr>\n",
       "      <th>count</th>\n",
       "      <td>19237.000000</td>\n",
       "      <td>19237.000000</td>\n",
       "      <td>19237.000000</td>\n",
       "      <td>19237.000000</td>\n",
       "      <td>19237.000000</td>\n",
       "      <td>19237.000000</td>\n",
       "      <td>19237.000000</td>\n",
       "      <td>1.923700e+04</td>\n",
       "      <td>19237.000000</td>\n",
       "      <td>19237.000000</td>\n",
       "      <td>19237.000000</td>\n",
       "      <td>19237.000000</td>\n",
       "      <td>19237.000000</td>\n",
       "      <td>19237.000000</td>\n",
       "      <td>19237.000000</td>\n",
       "      <td>1.923700e+04</td>\n",
       "    </tr>\n",
       "    <tr>\n",
       "      <th>mean</th>\n",
       "      <td>632.528669</td>\n",
       "      <td>33.080678</td>\n",
       "      <td>862.592348</td>\n",
       "      <td>2010.912824</td>\n",
       "      <td>6.265582</td>\n",
       "      <td>0.725373</td>\n",
       "      <td>3.432396</td>\n",
       "      <td>1.532236e+06</td>\n",
       "      <td>4.582991</td>\n",
       "      <td>0.536310</td>\n",
       "      <td>0.908874</td>\n",
       "      <td>0.966263</td>\n",
       "      <td>0.077143</td>\n",
       "      <td>7.776005</td>\n",
       "      <td>6.582627</td>\n",
       "      <td>1.855593e+04</td>\n",
       "    </tr>\n",
       "    <tr>\n",
       "      <th>std</th>\n",
       "      <td>567.721688</td>\n",
       "      <td>17.766465</td>\n",
       "      <td>410.812287</td>\n",
       "      <td>5.668673</td>\n",
       "      <td>2.790570</td>\n",
       "      <td>0.446338</td>\n",
       "      <td>1.807388</td>\n",
       "      <td>4.840387e+07</td>\n",
       "      <td>1.199933</td>\n",
       "      <td>0.896607</td>\n",
       "      <td>0.567875</td>\n",
       "      <td>0.214264</td>\n",
       "      <td>0.266825</td>\n",
       "      <td>5.363884</td>\n",
       "      <td>4.320168</td>\n",
       "      <td>1.905813e+05</td>\n",
       "    </tr>\n",
       "    <tr>\n",
       "      <th>min</th>\n",
       "      <td>0.000000</td>\n",
       "      <td>0.000000</td>\n",
       "      <td>0.000000</td>\n",
       "      <td>1939.000000</td>\n",
       "      <td>0.000000</td>\n",
       "      <td>0.000000</td>\n",
       "      <td>0.000000</td>\n",
       "      <td>0.000000e+00</td>\n",
       "      <td>1.000000</td>\n",
       "      <td>0.000000</td>\n",
       "      <td>0.000000</td>\n",
       "      <td>0.000000</td>\n",
       "      <td>0.000000</td>\n",
       "      <td>0.000000</td>\n",
       "      <td>0.000000</td>\n",
       "      <td>1.000000e+00</td>\n",
       "    </tr>\n",
       "    <tr>\n",
       "      <th>25%</th>\n",
       "      <td>0.000000</td>\n",
       "      <td>21.000000</td>\n",
       "      <td>537.000000</td>\n",
       "      <td>2009.000000</td>\n",
       "      <td>4.000000</td>\n",
       "      <td>0.000000</td>\n",
       "      <td>2.000000</td>\n",
       "      <td>7.013900e+04</td>\n",
       "      <td>4.000000</td>\n",
       "      <td>0.000000</td>\n",
       "      <td>1.000000</td>\n",
       "      <td>1.000000</td>\n",
       "      <td>0.000000</td>\n",
       "      <td>1.000000</td>\n",
       "      <td>4.000000</td>\n",
       "      <td>5.331000e+03</td>\n",
       "    </tr>\n",
       "    <tr>\n",
       "      <th>50%</th>\n",
       "      <td>642.000000</td>\n",
       "      <td>32.000000</td>\n",
       "      <td>834.000000</td>\n",
       "      <td>2012.000000</td>\n",
       "      <td>7.000000</td>\n",
       "      <td>1.000000</td>\n",
       "      <td>5.000000</td>\n",
       "      <td>1.260000e+05</td>\n",
       "      <td>4.000000</td>\n",
       "      <td>0.000000</td>\n",
       "      <td>1.000000</td>\n",
       "      <td>1.000000</td>\n",
       "      <td>0.000000</td>\n",
       "      <td>7.000000</td>\n",
       "      <td>6.000000</td>\n",
       "      <td>1.317200e+04</td>\n",
       "    </tr>\n",
       "    <tr>\n",
       "      <th>75%</th>\n",
       "      <td>917.000000</td>\n",
       "      <td>54.000000</td>\n",
       "      <td>1226.000000</td>\n",
       "      <td>2015.000000</td>\n",
       "      <td>9.000000</td>\n",
       "      <td>1.000000</td>\n",
       "      <td>5.000000</td>\n",
       "      <td>1.888880e+05</td>\n",
       "      <td>4.000000</td>\n",
       "      <td>1.000000</td>\n",
       "      <td>1.000000</td>\n",
       "      <td>1.000000</td>\n",
       "      <td>0.000000</td>\n",
       "      <td>12.000000</td>\n",
       "      <td>12.000000</td>\n",
       "      <td>2.207500e+04</td>\n",
       "    </tr>\n",
       "    <tr>\n",
       "      <th>max</th>\n",
       "      <td>11714.000000</td>\n",
       "      <td>64.000000</td>\n",
       "      <td>1589.000000</td>\n",
       "      <td>2020.000000</td>\n",
       "      <td>10.000000</td>\n",
       "      <td>1.000000</td>\n",
       "      <td>6.000000</td>\n",
       "      <td>2.147484e+09</td>\n",
       "      <td>16.000000</td>\n",
       "      <td>3.000000</td>\n",
       "      <td>2.000000</td>\n",
       "      <td>2.000000</td>\n",
       "      <td>1.000000</td>\n",
       "      <td>15.000000</td>\n",
       "      <td>16.000000</td>\n",
       "      <td>2.630750e+07</td>\n",
       "    </tr>\n",
       "  </tbody>\n",
       "</table>\n",
       "</div>"
      ],
      "text/plain": [
       "               Levy  Manufacturer         Model    Prod. year      Category  \\\n",
       "count  19237.000000  19237.000000  19237.000000  19237.000000  19237.000000   \n",
       "mean     632.528669     33.080678    862.592348   2010.912824      6.265582   \n",
       "std      567.721688     17.766465    410.812287      5.668673      2.790570   \n",
       "min        0.000000      0.000000      0.000000   1939.000000      0.000000   \n",
       "25%        0.000000     21.000000    537.000000   2009.000000      4.000000   \n",
       "50%      642.000000     32.000000    834.000000   2012.000000      7.000000   \n",
       "75%      917.000000     54.000000   1226.000000   2015.000000      9.000000   \n",
       "max    11714.000000     64.000000   1589.000000   2020.000000     10.000000   \n",
       "\n",
       "       Leather interior     Fuel type       Mileage     Cylinders  \\\n",
       "count      19237.000000  19237.000000  1.923700e+04  19237.000000   \n",
       "mean           0.725373      3.432396  1.532236e+06      4.582991   \n",
       "std            0.446338      1.807388  4.840387e+07      1.199933   \n",
       "min            0.000000      0.000000  0.000000e+00      1.000000   \n",
       "25%            0.000000      2.000000  7.013900e+04      4.000000   \n",
       "50%            1.000000      5.000000  1.260000e+05      4.000000   \n",
       "75%            1.000000      5.000000  1.888880e+05      4.000000   \n",
       "max            1.000000      6.000000  2.147484e+09     16.000000   \n",
       "\n",
       "       Gear box type  Drive wheels         Doors         Wheel         Color  \\\n",
       "count   19237.000000  19237.000000  19237.000000  19237.000000  19237.000000   \n",
       "mean        0.536310      0.908874      0.966263      0.077143      7.776005   \n",
       "std         0.896607      0.567875      0.214264      0.266825      5.363884   \n",
       "min         0.000000      0.000000      0.000000      0.000000      0.000000   \n",
       "25%         0.000000      1.000000      1.000000      0.000000      1.000000   \n",
       "50%         0.000000      1.000000      1.000000      0.000000      7.000000   \n",
       "75%         1.000000      1.000000      1.000000      0.000000     12.000000   \n",
       "max         3.000000      2.000000      2.000000      1.000000     15.000000   \n",
       "\n",
       "            Airbags         Price  \n",
       "count  19237.000000  1.923700e+04  \n",
       "mean       6.582627  1.855593e+04  \n",
       "std        4.320168  1.905813e+05  \n",
       "min        0.000000  1.000000e+00  \n",
       "25%        4.000000  5.331000e+03  \n",
       "50%        6.000000  1.317200e+04  \n",
       "75%       12.000000  2.207500e+04  \n",
       "max       16.000000  2.630750e+07  "
      ]
     },
     "execution_count": 53,
     "metadata": {},
     "output_type": "execute_result"
    }
   ],
   "source": [
    "df.describe()"
   ]
  },
  {
   "cell_type": "code",
   "execution_count": 54,
   "id": "6a5cb4e4",
   "metadata": {},
   "outputs": [
    {
     "data": {
      "text/plain": [
       "2            3916\n",
       "2.5          2277\n",
       "1.8          1760\n",
       "1.6          1462\n",
       "1.5          1321\n",
       "             ... \n",
       "6.8             1\n",
       "6.7             1\n",
       "3.1             1\n",
       "0.8 Turbo       1\n",
       "1.1 Turbo       1\n",
       "Name: Engine volume, Length: 107, dtype: int64"
      ]
     },
     "execution_count": 54,
     "metadata": {},
     "output_type": "execute_result"
    }
   ],
   "source": [
    "df['Engine volume'].value_counts()"
   ]
  },
  {
   "cell_type": "code",
   "execution_count": 55,
   "id": "19ea8e14",
   "metadata": {},
   "outputs": [
    {
     "data": {
      "text/plain": [
       "str"
      ]
     },
     "execution_count": 55,
     "metadata": {},
     "output_type": "execute_result"
    }
   ],
   "source": [
    "type(df['Engine volume'][0])"
   ]
  },
  {
   "cell_type": "code",
   "execution_count": 56,
   "id": "c369d54a",
   "metadata": {},
   "outputs": [],
   "source": [
    "import re\n",
    "def extract_number(value):\n",
    "    match = re.search(r'\\d+\\.\\d+|\\d+', value)\n",
    "    return float(match.group()) if match else None\n"
   ]
  },
  {
   "cell_type": "code",
   "execution_count": 57,
   "id": "e61812c9",
   "metadata": {},
   "outputs": [],
   "source": [
    "df['Engine volume'] = df['Engine volume'].apply(extract_number)\n"
   ]
  },
  {
   "cell_type": "code",
   "execution_count": 58,
   "id": "7cf72c6d",
   "metadata": {},
   "outputs": [
    {
     "data": {
      "text/plain": [
       "2.0    4324\n",
       "2.5    2370\n",
       "1.8    1937\n",
       "1.6    1578\n",
       "1.5    1393\n",
       "       ... \n",
       "3.1       1\n",
       "7.3       1\n",
       "0.5       1\n",
       "6.8       1\n",
       "5.8       1\n",
       "Name: Engine volume, Length: 65, dtype: int64"
      ]
     },
     "execution_count": 58,
     "metadata": {},
     "output_type": "execute_result"
    }
   ],
   "source": [
    "df['Engine volume'].value_counts()"
   ]
  },
  {
   "cell_type": "code",
   "execution_count": 59,
   "id": "24252858",
   "metadata": {},
   "outputs": [
    {
     "data": {
      "text/html": [
       "<div>\n",
       "<style scoped>\n",
       "    .dataframe tbody tr th:only-of-type {\n",
       "        vertical-align: middle;\n",
       "    }\n",
       "\n",
       "    .dataframe tbody tr th {\n",
       "        vertical-align: top;\n",
       "    }\n",
       "\n",
       "    .dataframe thead th {\n",
       "        text-align: right;\n",
       "    }\n",
       "</style>\n",
       "<table border=\"1\" class=\"dataframe\">\n",
       "  <thead>\n",
       "    <tr style=\"text-align: right;\">\n",
       "      <th></th>\n",
       "      <th>Levy</th>\n",
       "      <th>Manufacturer</th>\n",
       "      <th>Model</th>\n",
       "      <th>Prod. year</th>\n",
       "      <th>Category</th>\n",
       "      <th>Leather interior</th>\n",
       "      <th>Fuel type</th>\n",
       "      <th>Engine volume</th>\n",
       "      <th>Mileage</th>\n",
       "      <th>Cylinders</th>\n",
       "      <th>Gear box type</th>\n",
       "      <th>Drive wheels</th>\n",
       "      <th>Doors</th>\n",
       "      <th>Wheel</th>\n",
       "      <th>Color</th>\n",
       "      <th>Airbags</th>\n",
       "      <th>Price</th>\n",
       "    </tr>\n",
       "  </thead>\n",
       "  <tbody>\n",
       "    <tr>\n",
       "      <th>count</th>\n",
       "      <td>19237.000000</td>\n",
       "      <td>19237.000000</td>\n",
       "      <td>19237.000000</td>\n",
       "      <td>19237.000000</td>\n",
       "      <td>19237.000000</td>\n",
       "      <td>19237.000000</td>\n",
       "      <td>19237.000000</td>\n",
       "      <td>19237.000000</td>\n",
       "      <td>1.923700e+04</td>\n",
       "      <td>19237.000000</td>\n",
       "      <td>19237.000000</td>\n",
       "      <td>19237.000000</td>\n",
       "      <td>19237.000000</td>\n",
       "      <td>19237.000000</td>\n",
       "      <td>19237.000000</td>\n",
       "      <td>19237.000000</td>\n",
       "      <td>1.923700e+04</td>\n",
       "    </tr>\n",
       "    <tr>\n",
       "      <th>mean</th>\n",
       "      <td>632.528669</td>\n",
       "      <td>33.080678</td>\n",
       "      <td>862.592348</td>\n",
       "      <td>2010.912824</td>\n",
       "      <td>6.265582</td>\n",
       "      <td>0.725373</td>\n",
       "      <td>3.432396</td>\n",
       "      <td>2.307990</td>\n",
       "      <td>1.532236e+06</td>\n",
       "      <td>4.582991</td>\n",
       "      <td>0.536310</td>\n",
       "      <td>0.908874</td>\n",
       "      <td>0.966263</td>\n",
       "      <td>0.077143</td>\n",
       "      <td>7.776005</td>\n",
       "      <td>6.582627</td>\n",
       "      <td>1.855593e+04</td>\n",
       "    </tr>\n",
       "    <tr>\n",
       "      <th>std</th>\n",
       "      <td>567.721688</td>\n",
       "      <td>17.766465</td>\n",
       "      <td>410.812287</td>\n",
       "      <td>5.668673</td>\n",
       "      <td>2.790570</td>\n",
       "      <td>0.446338</td>\n",
       "      <td>1.807388</td>\n",
       "      <td>0.877805</td>\n",
       "      <td>4.840387e+07</td>\n",
       "      <td>1.199933</td>\n",
       "      <td>0.896607</td>\n",
       "      <td>0.567875</td>\n",
       "      <td>0.214264</td>\n",
       "      <td>0.266825</td>\n",
       "      <td>5.363884</td>\n",
       "      <td>4.320168</td>\n",
       "      <td>1.905813e+05</td>\n",
       "    </tr>\n",
       "    <tr>\n",
       "      <th>min</th>\n",
       "      <td>0.000000</td>\n",
       "      <td>0.000000</td>\n",
       "      <td>0.000000</td>\n",
       "      <td>1939.000000</td>\n",
       "      <td>0.000000</td>\n",
       "      <td>0.000000</td>\n",
       "      <td>0.000000</td>\n",
       "      <td>0.000000</td>\n",
       "      <td>0.000000e+00</td>\n",
       "      <td>1.000000</td>\n",
       "      <td>0.000000</td>\n",
       "      <td>0.000000</td>\n",
       "      <td>0.000000</td>\n",
       "      <td>0.000000</td>\n",
       "      <td>0.000000</td>\n",
       "      <td>0.000000</td>\n",
       "      <td>1.000000e+00</td>\n",
       "    </tr>\n",
       "    <tr>\n",
       "      <th>25%</th>\n",
       "      <td>0.000000</td>\n",
       "      <td>21.000000</td>\n",
       "      <td>537.000000</td>\n",
       "      <td>2009.000000</td>\n",
       "      <td>4.000000</td>\n",
       "      <td>0.000000</td>\n",
       "      <td>2.000000</td>\n",
       "      <td>1.800000</td>\n",
       "      <td>7.013900e+04</td>\n",
       "      <td>4.000000</td>\n",
       "      <td>0.000000</td>\n",
       "      <td>1.000000</td>\n",
       "      <td>1.000000</td>\n",
       "      <td>0.000000</td>\n",
       "      <td>1.000000</td>\n",
       "      <td>4.000000</td>\n",
       "      <td>5.331000e+03</td>\n",
       "    </tr>\n",
       "    <tr>\n",
       "      <th>50%</th>\n",
       "      <td>642.000000</td>\n",
       "      <td>32.000000</td>\n",
       "      <td>834.000000</td>\n",
       "      <td>2012.000000</td>\n",
       "      <td>7.000000</td>\n",
       "      <td>1.000000</td>\n",
       "      <td>5.000000</td>\n",
       "      <td>2.000000</td>\n",
       "      <td>1.260000e+05</td>\n",
       "      <td>4.000000</td>\n",
       "      <td>0.000000</td>\n",
       "      <td>1.000000</td>\n",
       "      <td>1.000000</td>\n",
       "      <td>0.000000</td>\n",
       "      <td>7.000000</td>\n",
       "      <td>6.000000</td>\n",
       "      <td>1.317200e+04</td>\n",
       "    </tr>\n",
       "    <tr>\n",
       "      <th>75%</th>\n",
       "      <td>917.000000</td>\n",
       "      <td>54.000000</td>\n",
       "      <td>1226.000000</td>\n",
       "      <td>2015.000000</td>\n",
       "      <td>9.000000</td>\n",
       "      <td>1.000000</td>\n",
       "      <td>5.000000</td>\n",
       "      <td>2.500000</td>\n",
       "      <td>1.888880e+05</td>\n",
       "      <td>4.000000</td>\n",
       "      <td>1.000000</td>\n",
       "      <td>1.000000</td>\n",
       "      <td>1.000000</td>\n",
       "      <td>0.000000</td>\n",
       "      <td>12.000000</td>\n",
       "      <td>12.000000</td>\n",
       "      <td>2.207500e+04</td>\n",
       "    </tr>\n",
       "    <tr>\n",
       "      <th>max</th>\n",
       "      <td>11714.000000</td>\n",
       "      <td>64.000000</td>\n",
       "      <td>1589.000000</td>\n",
       "      <td>2020.000000</td>\n",
       "      <td>10.000000</td>\n",
       "      <td>1.000000</td>\n",
       "      <td>6.000000</td>\n",
       "      <td>20.000000</td>\n",
       "      <td>2.147484e+09</td>\n",
       "      <td>16.000000</td>\n",
       "      <td>3.000000</td>\n",
       "      <td>2.000000</td>\n",
       "      <td>2.000000</td>\n",
       "      <td>1.000000</td>\n",
       "      <td>15.000000</td>\n",
       "      <td>16.000000</td>\n",
       "      <td>2.630750e+07</td>\n",
       "    </tr>\n",
       "  </tbody>\n",
       "</table>\n",
       "</div>"
      ],
      "text/plain": [
       "               Levy  Manufacturer         Model    Prod. year      Category  \\\n",
       "count  19237.000000  19237.000000  19237.000000  19237.000000  19237.000000   \n",
       "mean     632.528669     33.080678    862.592348   2010.912824      6.265582   \n",
       "std      567.721688     17.766465    410.812287      5.668673      2.790570   \n",
       "min        0.000000      0.000000      0.000000   1939.000000      0.000000   \n",
       "25%        0.000000     21.000000    537.000000   2009.000000      4.000000   \n",
       "50%      642.000000     32.000000    834.000000   2012.000000      7.000000   \n",
       "75%      917.000000     54.000000   1226.000000   2015.000000      9.000000   \n",
       "max    11714.000000     64.000000   1589.000000   2020.000000     10.000000   \n",
       "\n",
       "       Leather interior     Fuel type  Engine volume       Mileage  \\\n",
       "count      19237.000000  19237.000000   19237.000000  1.923700e+04   \n",
       "mean           0.725373      3.432396       2.307990  1.532236e+06   \n",
       "std            0.446338      1.807388       0.877805  4.840387e+07   \n",
       "min            0.000000      0.000000       0.000000  0.000000e+00   \n",
       "25%            0.000000      2.000000       1.800000  7.013900e+04   \n",
       "50%            1.000000      5.000000       2.000000  1.260000e+05   \n",
       "75%            1.000000      5.000000       2.500000  1.888880e+05   \n",
       "max            1.000000      6.000000      20.000000  2.147484e+09   \n",
       "\n",
       "          Cylinders  Gear box type  Drive wheels         Doors         Wheel  \\\n",
       "count  19237.000000   19237.000000  19237.000000  19237.000000  19237.000000   \n",
       "mean       4.582991       0.536310      0.908874      0.966263      0.077143   \n",
       "std        1.199933       0.896607      0.567875      0.214264      0.266825   \n",
       "min        1.000000       0.000000      0.000000      0.000000      0.000000   \n",
       "25%        4.000000       0.000000      1.000000      1.000000      0.000000   \n",
       "50%        4.000000       0.000000      1.000000      1.000000      0.000000   \n",
       "75%        4.000000       1.000000      1.000000      1.000000      0.000000   \n",
       "max       16.000000       3.000000      2.000000      2.000000      1.000000   \n",
       "\n",
       "              Color       Airbags         Price  \n",
       "count  19237.000000  19237.000000  1.923700e+04  \n",
       "mean       7.776005      6.582627  1.855593e+04  \n",
       "std        5.363884      4.320168  1.905813e+05  \n",
       "min        0.000000      0.000000  1.000000e+00  \n",
       "25%        1.000000      4.000000  5.331000e+03  \n",
       "50%        7.000000      6.000000  1.317200e+04  \n",
       "75%       12.000000     12.000000  2.207500e+04  \n",
       "max       15.000000     16.000000  2.630750e+07  "
      ]
     },
     "execution_count": 59,
     "metadata": {},
     "output_type": "execute_result"
    }
   ],
   "source": [
    "df.describe()"
   ]
  },
  {
   "cell_type": "code",
   "execution_count": 60,
   "id": "499accb4",
   "metadata": {},
   "outputs": [
    {
     "data": {
      "text/html": [
       "<div>\n",
       "<style scoped>\n",
       "    .dataframe tbody tr th:only-of-type {\n",
       "        vertical-align: middle;\n",
       "    }\n",
       "\n",
       "    .dataframe tbody tr th {\n",
       "        vertical-align: top;\n",
       "    }\n",
       "\n",
       "    .dataframe thead th {\n",
       "        text-align: right;\n",
       "    }\n",
       "</style>\n",
       "<table border=\"1\" class=\"dataframe\">\n",
       "  <thead>\n",
       "    <tr style=\"text-align: right;\">\n",
       "      <th></th>\n",
       "      <th>Levy</th>\n",
       "      <th>Manufacturer</th>\n",
       "      <th>Model</th>\n",
       "      <th>Prod. year</th>\n",
       "      <th>Category</th>\n",
       "      <th>Leather interior</th>\n",
       "      <th>Fuel type</th>\n",
       "      <th>Engine volume</th>\n",
       "      <th>Mileage</th>\n",
       "      <th>Cylinders</th>\n",
       "      <th>Gear box type</th>\n",
       "      <th>Drive wheels</th>\n",
       "      <th>Doors</th>\n",
       "      <th>Wheel</th>\n",
       "      <th>Color</th>\n",
       "      <th>Airbags</th>\n",
       "    </tr>\n",
       "  </thead>\n",
       "  <tbody>\n",
       "    <tr>\n",
       "      <th>0</th>\n",
       "      <td>1399</td>\n",
       "      <td>32</td>\n",
       "      <td>1242</td>\n",
       "      <td>2010</td>\n",
       "      <td>4</td>\n",
       "      <td>1</td>\n",
       "      <td>2</td>\n",
       "      <td>3.5</td>\n",
       "      <td>186005</td>\n",
       "      <td>6</td>\n",
       "      <td>0</td>\n",
       "      <td>0</td>\n",
       "      <td>1</td>\n",
       "      <td>0</td>\n",
       "      <td>12</td>\n",
       "      <td>12</td>\n",
       "    </tr>\n",
       "    <tr>\n",
       "      <th>1</th>\n",
       "      <td>1018</td>\n",
       "      <td>8</td>\n",
       "      <td>658</td>\n",
       "      <td>2011</td>\n",
       "      <td>4</td>\n",
       "      <td>0</td>\n",
       "      <td>5</td>\n",
       "      <td>3.0</td>\n",
       "      <td>192000</td>\n",
       "      <td>6</td>\n",
       "      <td>2</td>\n",
       "      <td>0</td>\n",
       "      <td>1</td>\n",
       "      <td>0</td>\n",
       "      <td>1</td>\n",
       "      <td>8</td>\n",
       "    </tr>\n",
       "    <tr>\n",
       "      <th>2</th>\n",
       "      <td>0</td>\n",
       "      <td>21</td>\n",
       "      <td>684</td>\n",
       "      <td>2006</td>\n",
       "      <td>3</td>\n",
       "      <td>0</td>\n",
       "      <td>5</td>\n",
       "      <td>1.3</td>\n",
       "      <td>200000</td>\n",
       "      <td>4</td>\n",
       "      <td>3</td>\n",
       "      <td>1</td>\n",
       "      <td>1</td>\n",
       "      <td>1</td>\n",
       "      <td>1</td>\n",
       "      <td>2</td>\n",
       "    </tr>\n",
       "    <tr>\n",
       "      <th>3</th>\n",
       "      <td>862</td>\n",
       "      <td>16</td>\n",
       "      <td>661</td>\n",
       "      <td>2011</td>\n",
       "      <td>4</td>\n",
       "      <td>1</td>\n",
       "      <td>2</td>\n",
       "      <td>2.5</td>\n",
       "      <td>168966</td>\n",
       "      <td>4</td>\n",
       "      <td>0</td>\n",
       "      <td>0</td>\n",
       "      <td>1</td>\n",
       "      <td>0</td>\n",
       "      <td>14</td>\n",
       "      <td>0</td>\n",
       "    </tr>\n",
       "    <tr>\n",
       "      <th>4</th>\n",
       "      <td>446</td>\n",
       "      <td>21</td>\n",
       "      <td>684</td>\n",
       "      <td>2014</td>\n",
       "      <td>3</td>\n",
       "      <td>1</td>\n",
       "      <td>5</td>\n",
       "      <td>1.3</td>\n",
       "      <td>91901</td>\n",
       "      <td>4</td>\n",
       "      <td>0</td>\n",
       "      <td>1</td>\n",
       "      <td>1</td>\n",
       "      <td>0</td>\n",
       "      <td>12</td>\n",
       "      <td>4</td>\n",
       "    </tr>\n",
       "    <tr>\n",
       "      <th>...</th>\n",
       "      <td>...</td>\n",
       "      <td>...</td>\n",
       "      <td>...</td>\n",
       "      <td>...</td>\n",
       "      <td>...</td>\n",
       "      <td>...</td>\n",
       "      <td>...</td>\n",
       "      <td>...</td>\n",
       "      <td>...</td>\n",
       "      <td>...</td>\n",
       "      <td>...</td>\n",
       "      <td>...</td>\n",
       "      <td>...</td>\n",
       "      <td>...</td>\n",
       "      <td>...</td>\n",
       "      <td>...</td>\n",
       "    </tr>\n",
       "    <tr>\n",
       "      <th>19232</th>\n",
       "      <td>0</td>\n",
       "      <td>36</td>\n",
       "      <td>385</td>\n",
       "      <td>1999</td>\n",
       "      <td>1</td>\n",
       "      <td>1</td>\n",
       "      <td>0</td>\n",
       "      <td>2.0</td>\n",
       "      <td>300000</td>\n",
       "      <td>4</td>\n",
       "      <td>1</td>\n",
       "      <td>2</td>\n",
       "      <td>0</td>\n",
       "      <td>0</td>\n",
       "      <td>12</td>\n",
       "      <td>5</td>\n",
       "    </tr>\n",
       "    <tr>\n",
       "      <th>19233</th>\n",
       "      <td>831</td>\n",
       "      <td>23</td>\n",
       "      <td>1334</td>\n",
       "      <td>2011</td>\n",
       "      <td>9</td>\n",
       "      <td>1</td>\n",
       "      <td>5</td>\n",
       "      <td>2.4</td>\n",
       "      <td>161600</td>\n",
       "      <td>4</td>\n",
       "      <td>2</td>\n",
       "      <td>1</td>\n",
       "      <td>1</td>\n",
       "      <td>0</td>\n",
       "      <td>11</td>\n",
       "      <td>8</td>\n",
       "    </tr>\n",
       "    <tr>\n",
       "      <th>19234</th>\n",
       "      <td>836</td>\n",
       "      <td>23</td>\n",
       "      <td>1442</td>\n",
       "      <td>2010</td>\n",
       "      <td>4</td>\n",
       "      <td>1</td>\n",
       "      <td>1</td>\n",
       "      <td>2.0</td>\n",
       "      <td>116365</td>\n",
       "      <td>4</td>\n",
       "      <td>0</td>\n",
       "      <td>1</td>\n",
       "      <td>1</td>\n",
       "      <td>0</td>\n",
       "      <td>7</td>\n",
       "      <td>4</td>\n",
       "    </tr>\n",
       "    <tr>\n",
       "      <th>19235</th>\n",
       "      <td>1288</td>\n",
       "      <td>8</td>\n",
       "      <td>456</td>\n",
       "      <td>2007</td>\n",
       "      <td>4</td>\n",
       "      <td>1</td>\n",
       "      <td>1</td>\n",
       "      <td>2.0</td>\n",
       "      <td>51258</td>\n",
       "      <td>4</td>\n",
       "      <td>0</td>\n",
       "      <td>1</td>\n",
       "      <td>1</td>\n",
       "      <td>0</td>\n",
       "      <td>1</td>\n",
       "      <td>4</td>\n",
       "    </tr>\n",
       "    <tr>\n",
       "      <th>19236</th>\n",
       "      <td>753</td>\n",
       "      <td>23</td>\n",
       "      <td>1334</td>\n",
       "      <td>2012</td>\n",
       "      <td>9</td>\n",
       "      <td>1</td>\n",
       "      <td>2</td>\n",
       "      <td>2.4</td>\n",
       "      <td>186923</td>\n",
       "      <td>4</td>\n",
       "      <td>0</td>\n",
       "      <td>1</td>\n",
       "      <td>1</td>\n",
       "      <td>0</td>\n",
       "      <td>14</td>\n",
       "      <td>12</td>\n",
       "    </tr>\n",
       "  </tbody>\n",
       "</table>\n",
       "<p>19237 rows × 16 columns</p>\n",
       "</div>"
      ],
      "text/plain": [
       "       Levy  Manufacturer  Model  Prod. year  Category  Leather interior  \\\n",
       "0      1399            32   1242        2010         4                 1   \n",
       "1      1018             8    658        2011         4                 0   \n",
       "2         0            21    684        2006         3                 0   \n",
       "3       862            16    661        2011         4                 1   \n",
       "4       446            21    684        2014         3                 1   \n",
       "...     ...           ...    ...         ...       ...               ...   \n",
       "19232     0            36    385        1999         1                 1   \n",
       "19233   831            23   1334        2011         9                 1   \n",
       "19234   836            23   1442        2010         4                 1   \n",
       "19235  1288             8    456        2007         4                 1   \n",
       "19236   753            23   1334        2012         9                 1   \n",
       "\n",
       "       Fuel type  Engine volume  Mileage  Cylinders  Gear box type  \\\n",
       "0              2            3.5   186005          6              0   \n",
       "1              5            3.0   192000          6              2   \n",
       "2              5            1.3   200000          4              3   \n",
       "3              2            2.5   168966          4              0   \n",
       "4              5            1.3    91901          4              0   \n",
       "...          ...            ...      ...        ...            ...   \n",
       "19232          0            2.0   300000          4              1   \n",
       "19233          5            2.4   161600          4              2   \n",
       "19234          1            2.0   116365          4              0   \n",
       "19235          1            2.0    51258          4              0   \n",
       "19236          2            2.4   186923          4              0   \n",
       "\n",
       "       Drive wheels  Doors  Wheel  Color  Airbags  \n",
       "0                 0      1      0     12       12  \n",
       "1                 0      1      0      1        8  \n",
       "2                 1      1      1      1        2  \n",
       "3                 0      1      0     14        0  \n",
       "4                 1      1      0     12        4  \n",
       "...             ...    ...    ...    ...      ...  \n",
       "19232             2      0      0     12        5  \n",
       "19233             1      1      0     11        8  \n",
       "19234             1      1      0      7        4  \n",
       "19235             1      1      0      1        4  \n",
       "19236             1      1      0     14       12  \n",
       "\n",
       "[19237 rows x 16 columns]"
      ]
     },
     "execution_count": 60,
     "metadata": {},
     "output_type": "execute_result"
    }
   ],
   "source": [
    "a=df\n",
    "a=a.drop(columns=['Price'])\n",
    "a"
   ]
  },
  {
   "cell_type": "code",
   "execution_count": 61,
   "id": "7de6977e",
   "metadata": {},
   "outputs": [],
   "source": [
    "X=a\n",
    "y=df['Price']\n",
    "X_train, X_test, y_train, y_test = train_test_split(X, y, test_size=0.2, random_state=42)"
   ]
  },
  {
   "cell_type": "markdown",
   "id": "a93718e6",
   "metadata": {},
   "source": [
    "# data anlaysis"
   ]
  },
  {
   "cell_type": "code",
   "execution_count": 62,
   "id": "f08ac3ea",
   "metadata": {},
   "outputs": [],
   "source": [
    "numerical_features =['Price', 'Levy', 'Manufacturer', 'Model', 'Prod. year', 'Category',\n",
    "       'Leather interior', 'Fuel type', 'Engine volume', 'Mileage',\n",
    "       'Cylinders', 'Gear box type', 'Drive wheels', 'Doors', 'Wheel', 'Color',\n",
    "       'Airbags']"
   ]
  },
  {
   "cell_type": "code",
   "execution_count": 73,
   "id": "889299ec",
   "metadata": {},
   "outputs": [
    {
     "data": {
      "image/png": "[encoded data removed]",
      "text/plain": [
       "<Figure size 1440x1800 with 2 Axes>"
      ]
     },
     "metadata": {
      "needs_background": "light"
     },
     "output_type": "display_data"
    }
   ],
   "source": [
    "# Correlation Analysis\n",
    "correlation_matrix = df.corr()\n",
    "plt.figure(figsize=(20, 25))\n",
    "sns.heatmap(correlation_matrix, annot=True, cmap='coolwarm')\n",
    "plt.title('Correlation Heatmap')\n",
    "plt.show()"
   ]
  },
  {
   "cell_type": "markdown",
   "id": "0591b907",
   "metadata": {},
   "source": [
    "# 1. Linear Regression"
   ]
  },
  {
   "cell_type": "code",
   "execution_count": 64,
   "id": "ad5a34da",
   "metadata": {},
   "outputs": [
    {
     "name": "stdout",
     "output_type": "stream",
     "text": [
      "Linear Regression R^2 Score: -0.09192513852381756\n",
      "Linear Regression MAE: 12597.45276783546\n",
      "Linear Regression MSE: 340240176.65038025\n"
     ]
    }
   ],
   "source": [
    "from sklearn.linear_model import LinearRegression\n",
    "from sklearn.metrics import mean_absolute_error, mean_squared_error\n",
    "\n",
    "# Linear Regression\n",
    "lin_reg = LinearRegression()\n",
    "lin_reg.fit(X_train, y_train)\n",
    "y_pred = lin_reg.predict(X_test)\n",
    "\n",
    "# Evaluation\n",
    "r2 = r2_score(y_test, y_pred)\n",
    "print('Linear Regression R^2 Score:', r2)\n",
    "print('Linear Regression MAE:', mean_absolute_error(y_test, y_pred))\n",
    "print('Linear Regression MSE:', mean_squared_error(y_test, y_pred))\n"
   ]
  },
  {
   "cell_type": "markdown",
   "id": "85351fa9",
   "metadata": {},
   "source": [
    "# 2. Decision Trees"
   ]
  },
  {
   "cell_type": "code",
   "execution_count": 65,
   "id": "e88370aa",
   "metadata": {},
   "outputs": [
    {
     "name": "stdout",
     "output_type": "stream",
     "text": [
      "Decision Tree R^2 Score: -577.0097258377615\n",
      "Decision Tree MAE: 12356.889315949098\n",
      "Decision Tree MSE: 180105873824.41525\n"
     ]
    }
   ],
   "source": [
    "from sklearn.tree import DecisionTreeRegressor\n",
    "\n",
    "# Decision Tree\n",
    "tree_reg = DecisionTreeRegressor(random_state=0)\n",
    "tree_reg.fit(X_train, y_train)\n",
    "y_pred = tree_reg.predict(X_test)\n",
    "\n",
    "# Evaluation\n",
    "r2 = r2_score(y_test, y_pred)\n",
    "print('Decision Tree R^2 Score:', r2)\n",
    "print('Decision Tree MAE:', mean_absolute_error(y_test, y_pred))\n",
    "print('Decision Tree MSE:', mean_squared_error(y_test, y_pred))\n"
   ]
  },
  {
   "cell_type": "markdown",
   "id": "faeebbb0",
   "metadata": {},
   "source": [
    "# 3. Random Forest"
   ]
  },
  {
   "cell_type": "code",
   "execution_count": 66,
   "id": "3ca21b0c",
   "metadata": {},
   "outputs": [
    {
     "name": "stdout",
     "output_type": "stream",
     "text": [
      "Random Forest R^2 Score: -62.29157256096884\n",
      "Random Forest MAE: 9191.159853570578\n",
      "Random Forest MSE: 19721439747.908764\n"
     ]
    }
   ],
   "source": [
    "from sklearn.ensemble import RandomForestRegressor\n",
    "\n",
    "# Random Forest\n",
    "rf_reg = RandomForestRegressor(n_estimators=100, random_state=0)\n",
    "rf_reg.fit(X_train, y_train)\n",
    "y_pred = rf_reg.predict(X_test)\n",
    "\n",
    "# Evaluation\n",
    "r2 = r2_score(y_test, y_pred)\n",
    "print('Random Forest R^2 Score:', r2)\n",
    "print('Random Forest MAE:', mean_absolute_error(y_test, y_pred))\n",
    "print('Random Forest MSE:', mean_squared_error(y_test, y_pred))\n"
   ]
  },
  {
   "cell_type": "markdown",
   "id": "dd6d51e3",
   "metadata": {},
   "source": [
    "# 4. Gradient Boosting Machines (GBM)"
   ]
  },
  {
   "cell_type": "code",
   "execution_count": 67,
   "id": "665fe026",
   "metadata": {},
   "outputs": [
    {
     "name": "stdout",
     "output_type": "stream",
     "text": [
      "Gradient Boosting R^2 Score: -1.408867757037188\n",
      "Gradient Boosting MAE: 10716.9613458544\n",
      "Gradient Boosting MSE: 750595038.309818\n"
     ]
    }
   ],
   "source": [
    "from sklearn.ensemble import GradientBoostingRegressor\n",
    "\n",
    "# Gradient Boosting\n",
    "gbm_reg = GradientBoostingRegressor(n_estimators=100, random_state=0)\n",
    "gbm_reg.fit(X_train, y_train)\n",
    "y_pred = gbm_reg.predict(X_test)\n",
    "\n",
    "# Evaluation\n",
    "r2 = r2_score(y_test, y_pred)\n",
    "print('Gradient Boosting R^2 Score:', r2)\n",
    "print('Gradient Boosting MAE:', mean_absolute_error(y_test, y_pred))\n",
    "print('Gradient Boosting MSE:', mean_squared_error(y_test, y_pred))\n"
   ]
  },
  {
   "cell_type": "markdown",
   "id": "3335abed",
   "metadata": {},
   "source": [
    "# 5. XGBoost"
   ]
  },
  {
   "cell_type": "code",
   "execution_count": 68,
   "id": "e8f8fc36",
   "metadata": {},
   "outputs": [
    {
     "name": "stdout",
     "output_type": "stream",
     "text": [
      "XGBoost R^2 Score: 0.6774857540076834\n",
      "XGBoost MAE: 5138.17389989494\n",
      "XGBoost MSE: 100494347.23797823\n"
     ]
    }
   ],
   "source": [
    "import xgboost as xgb\n",
    "\n",
    "# XGBoost\n",
    "xgb_reg = xgb.XGBRegressor(n_estimators=100, random_state=0)\n",
    "xgb_reg.fit(X_train, y_train)\n",
    "y_pred = xgb_reg.predict(X_test)\n",
    "\n",
    "# Evaluation\n",
    "r2 = r2_score(y_test, y_pred)\n",
    "print('XGBoost R^2 Score:', r2)\n",
    "print('XGBoost MAE:', mean_absolute_error(y_test, y_pred))\n",
    "print('XGBoost MSE:', mean_squared_error(y_test, y_pred))\n"
   ]
  },
  {
   "cell_type": "markdown",
   "id": "5c6b802d",
   "metadata": {},
   "source": [
    "# 6. Support Vector Regression (SVR)"
   ]
  },
  {
   "cell_type": "code",
   "execution_count": 69,
   "id": "b9759a3f",
   "metadata": {},
   "outputs": [
    {
     "name": "stdout",
     "output_type": "stream",
     "text": [
      "Support Vector Regression R^2 Score: -0.04676413056669748\n",
      "Support Vector Regression MAE: 11427.581113698297\n",
      "Support Vector Regression MSE: 326168159.4553072\n"
     ]
    }
   ],
   "source": [
    "from sklearn.svm import SVR\n",
    "\n",
    "# Support Vector Regression\n",
    "svr_reg = SVR(kernel='rbf')\n",
    "svr_reg.fit(X_train, y_train)\n",
    "y_pred = svr_reg.predict(X_test)\n",
    "\n",
    "# Evaluation\n",
    "r2 = r2_score(y_test, y_pred)\n",
    "print('Support Vector Regression R^2 Score:', r2)\n",
    "print('Support Vector Regression MAE:', mean_absolute_error(y_test, y_pred))\n",
    "print('Support Vector Regression MSE:', mean_squared_error(y_test, y_pred))\n"
   ]
  },
  {
   "cell_type": "markdown",
   "id": "beee3510",
   "metadata": {},
   "source": [
    "# 7. Neural Networks (MLPRegressor)"
   ]
  },
  {
   "cell_type": "code",
   "execution_count": 70,
   "id": "1ef9cf6d",
   "metadata": {},
   "outputs": [
    {
     "name": "stdout",
     "output_type": "stream",
     "text": [
      "Neural Network R^2 Score: -1.0864871109928922\n",
      "Neural Network MAE: 12092.43542306468\n",
      "Neural Network MSE: 650142320.3633647\n"
     ]
    }
   ],
   "source": [
    "from sklearn.neural_network import MLPRegressor\n",
    "\n",
    "# Neural Network\n",
    "mlp_reg = MLPRegressor(hidden_layer_sizes=(100, 50), max_iter=1000, random_state=0)\n",
    "mlp_reg.fit(X_train, y_train)\n",
    "y_pred = mlp_reg.predict(X_test)\n",
    "\n",
    "# Evaluation\n",
    "r2 = r2_score(y_test, y_pred)\n",
    "print('Neural Network R^2 Score:', r2)\n",
    "print('Neural Network MAE:', mean_absolute_error(y_test, y_pred))\n",
    "print('Neural Network MSE:', mean_squared_error(y_test, y_pred))\n"
   ]
  },
  {
   "cell_type": "markdown",
   "id": "afe0119f",
   "metadata": {},
   "source": [
    "# 8. k-Nearest Neighbors (k-NN)"
   ]
  },
  {
   "cell_type": "code",
   "execution_count": 71,
   "id": "1e13da8c",
   "metadata": {},
   "outputs": [
    {
     "name": "stdout",
     "output_type": "stream",
     "text": [
      "k-Nearest Neighbors R^2 Score: -46.26588507598973\n",
      "k-Nearest Neighbors MAE: 12859.361226611227\n",
      "k-Nearest Neighbors MSE: 14727889779.634867\n"
     ]
    }
   ],
   "source": [
    "from sklearn.neighbors import KNeighborsRegressor\n",
    "\n",
    "# k-Nearest Neighbors\n",
    "knn_reg = KNeighborsRegressor(n_neighbors=5)\n",
    "knn_reg.fit(X_train, y_train)\n",
    "y_pred = knn_reg.predict(X_test)\n",
    "\n",
    "# Evaluation\n",
    "r2 = r2_score(y_test, y_pred)\n",
    "print('k-Nearest Neighbors R^2 Score:', r2)\n",
    "print('k-Nearest Neighbors MAE:', mean_absolute_error(y_test, y_pred))\n",
    "print('k-Nearest Neighbors MSE:', mean_squared_error(y_test, y_pred))\n"
   ]
  },
  {
   "cell_type": "markdown",
   "id": "48696ed9",
   "metadata": {},
   "source": [
    "# 9. Lasso and Ridge Regression"
   ]
  },
  {
   "cell_type": "code",
   "execution_count": 72,
   "id": "d8477fd6",
   "metadata": {},
   "outputs": [
    {
     "name": "stdout",
     "output_type": "stream",
     "text": [
      "Lasso Regression R^2 Score: -0.09189171032178733\n",
      "Lasso Regression MAE: 12597.256747771527\n",
      "Lasso Regression MSE: 340229760.53579277\n",
      "Ridge RegressionR^2 Score: -0.09140431105549629\n",
      "Ridge Regression MAE: 12595.349106128924\n",
      "Ridge Regression MSE: 340077888.5744179\n"
     ]
    },
    {
     "name": "stderr",
     "output_type": "stream",
     "text": [
      "C:\\Users\\ATHARVA\\anaconda3\\lib\\site-packages\\sklearn\\linear_model\\_ridge.py:157: LinAlgWarning: Ill-conditioned matrix (rcond=1.39884e-17): result may not be accurate.\n",
      "  return linalg.solve(A, Xy, sym_pos=True, overwrite_a=True).T\n"
     ]
    }
   ],
   "source": [
    "from sklearn.linear_model import Lasso, Ridge\n",
    "\n",
    "# Lasso Regression\n",
    "lasso_reg = Lasso(alpha=0.1)\n",
    "lasso_reg.fit(X_train, y_train)\n",
    "y_pred = lasso_reg.predict(X_test)\n",
    "\n",
    "# Evaluation\n",
    "r2 = r2_score(y_test, y_pred)\n",
    "print('Lasso Regression R^2 Score:', r2)\n",
    "print('Lasso Regression MAE:', mean_absolute_error(y_test, y_pred))\n",
    "print('Lasso Regression MSE:', mean_squared_error(y_test, y_pred))\n",
    "\n",
    "# Ridge Regression\n",
    "ridge_reg = Ridge(alpha=1.0)\n",
    "ridge_reg.fit(X_train, y_train)\n",
    "y_pred = ridge_reg.predict(X_test)\n",
    "\n",
    "# Evaluation\n",
    "r2 = r2_score(y_test, y_pred)\n",
    "print('Ridge RegressionR^2 Score:', r2)\n",
    "print('Ridge Regression MAE:', mean_absolute_error(y_test, y_pred))\n",
    "print('Ridge Regression MSE:', mean_squared_error(y_test, y_pred))\n"
   ]
  },
  {
   "cell_type": "markdown",
   "id": "6ff9375c",
   "metadata": {},
   "source": [
    "Interpreting the Results\n",
    "\n",
    "**Mean Absolute Error (MAE)**: Lower values indicate better performance.\n",
    "\n",
    "**Mean Squared Error (MSE)**: Lower values indicate better performance.\n",
    "\n",
    "**𝑅^2Score**: Higher values (closer to 1) indicate better performance.\n"
   ]
  },
  {
   "cell_type": "code",
   "execution_count": null,
   "id": "09f30be5",
   "metadata": {},
   "outputs": [],
   "source": []
  },
  {
   "cell_type": "code",
   "execution_count": null,
   "id": "844c7c69",
   "metadata": {},
   "outputs": [],
   "source": []
  },
  {
   "cell_type": "code",
   "execution_count": null,
   "id": "212da786",
   "metadata": {},
   "outputs": [],
   "source": [
    "\n"
   ]
  },
  {
   "cell_type": "code",
   "execution_count": null,
   "id": "2e9db7f3",
   "metadata": {},
   "outputs": [],
   "source": []
  }
 ],
 "metadata": {
  "kernelspec": {
   "display_name": "Python 3 (ipykernel)",
   "language": "python",
   "name": "python3"
  },
  "language_info": {
   "codemirror_mode": {
    "name": "ipython",
    "version": 3
   },
   "file_extension": ".py",
   "mimetype": "text/x-python",
   "name": "python",
   "nbconvert_exporter": "python",
   "pygments_lexer": "ipython3",
   "version": "3.9.12"
  }
 },
 "nbformat": 4,
 "nbformat_minor": 5
}
